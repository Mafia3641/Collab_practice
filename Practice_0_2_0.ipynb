{
  "nbformat": 4,
  "nbformat_minor": 0,
  "metadata": {
    "colab": {
      "provenance": [],
      "include_colab_link": true
    },
    "kernelspec": {
      "name": "python3",
      "display_name": "Python 3"
    },
    "language_info": {
      "name": "python"
    }
  },
  "cells": [
    {
      "cell_type": "markdown",
      "metadata": {
        "id": "view-in-github",
        "colab_type": "text"
      },
      "source": [
        "<a href=\"https://colab.research.google.com/github/Mafia3641/Collab_practice/blob/main/Practice_0_2_0.ipynb\" target=\"_parent\"><img src=\"https://colab.research.google.com/assets/colab-badge.svg\" alt=\"Open In Colab\"/></a>"
      ]
    },
    {
      "cell_type": "markdown",
      "source": [
        "Напишите свое ФИО:"
      ],
      "metadata": {
        "id": "0PnTh-ajEoEb"
      }
    },
    {
      "cell_type": "code",
      "source": [
        "Копылов Артем Александрович, Стрепетов Степан Дмитриевич ПИИ"
      ],
      "metadata": {
        "id": "QyMVPjzWErHw"
      },
      "execution_count": null,
      "outputs": []
    },
    {
      "cell_type": "markdown",
      "source": [
        "# Основы"
      ],
      "metadata": {
        "id": "HPwKiIA4EKO-"
      }
    },
    {
      "cell_type": "markdown",
      "source": [
        "Задание 1: Напиши программу, выводящую на экран сообщение \"Привет, мир!\""
      ],
      "metadata": {
        "id": "8po5IidFERZ8"
      }
    },
    {
      "cell_type": "code",
      "execution_count": null,
      "metadata": {
        "id": "sBRjlCVLEIQr"
      },
      "outputs": [],
      "source": [
        "print('Привет, мир!')"
      ]
    },
    {
      "cell_type": "markdown",
      "source": [
        "Задание 2: Напиши программу которая запрашивает имя пользователя и выводит сообщение:\n",
        "\n",
        "`Привет, <Имя пользователя>`"
      ],
      "metadata": {
        "id": "pUQIIo94EYLg"
      }
    },
    {
      "cell_type": "code",
      "source": [
        "username = input()\n",
        "print('Привет, ' + username)"
      ],
      "metadata": {
        "id": "nNwHKmAnEinH"
      },
      "execution_count": null,
      "outputs": []
    },
    {
      "cell_type": "markdown",
      "source": [
        "Задание 3: Напиши программу определяющую является ли число четным или нечетным:\n",
        "\n",
        "Пример:\n",
        "\n",
        "`Введите число:` 2\n",
        "\n",
        "`Ваше число четное!`"
      ],
      "metadata": {
        "id": "SAUm9W6_Etkh"
      }
    },
    {
      "cell_type": "code",
      "source": [
        "num = int(input(\"Введите число: \"))\n",
        "if num % 2 == 0:\n",
        "  print(\"Ваше число четное\")\n",
        "else:\n",
        "  print(\"Ваше число нечетное\")"
      ],
      "metadata": {
        "id": "LXv7AIN1E4on"
      },
      "execution_count": null,
      "outputs": []
    },
    {
      "cell_type": "markdown",
      "source": [
        "Задание 4: Напишите программу которая запрашивает длинну и ширину прямоугольника и выводит его площадь:\n",
        "\n",
        "\n",
        "\n",
        "`Введите длинну прямоугольника:`\n",
        "\n",
        "`Введите ширину прямоугольника:`\n",
        "\n",
        "`Площадь прямоугольника: `\n",
        "\n"
      ],
      "metadata": {
        "id": "OW1Y5KyUE_n9"
      }
    },
    {
      "cell_type": "code",
      "source": [
        "x = int(input(\"Введите длинну прямоугольника: \"))\n",
        "y = int(input(\"Введите ширину прямоугольника: \"))\n",
        "\n",
        "print(\"Площадь прямоугольника:\", x * y)"
      ],
      "metadata": {
        "id": "Bu5iawknFbXP"
      },
      "execution_count": null,
      "outputs": []
    },
    {
      "cell_type": "markdown",
      "source": [
        "Задание 5: Напишите программу, которая будет вычислять среднее арифметическое введенных чисел"
      ],
      "metadata": {
        "id": "xj8_QNLsFfLw"
      }
    },
    {
      "cell_type": "code",
      "source": [
        "numbers = [int(i) for i in input(\"Введите числа через пробел: \").split()]\n",
        "print(sum(numbers) / len(numbers))"
      ],
      "metadata": {
        "id": "omumX59JFoKw"
      },
      "execution_count": null,
      "outputs": []
    },
    {
      "cell_type": "markdown",
      "source": [
        "Задание 6: Напиши программу, которая бы определяла является ли год високосным"
      ],
      "metadata": {
        "id": "qHXcBMUJcP91"
      }
    },
    {
      "cell_type": "code",
      "source": [
        "year = int(input(\"Введите год: \"))\n",
        "print(\"Год високосный\" if year % 4 == 0 else \"Год не високосный\")"
      ],
      "metadata": {
        "id": "5zIg47mwcKKr"
      },
      "execution_count": null,
      "outputs": []
    },
    {
      "cell_type": "markdown",
      "source": [
        "Задание 7: Необходимо создать простой калькулятор, который позволяет пользователю выбрать одну из четырёх операций (+, -, *, /), ввести два числа и получить результат выполнения операции."
      ],
      "metadata": {
        "id": "CYaQ69kucdhj"
      }
    },
    {
      "cell_type": "code",
      "source": [
        "available_operands = ['+', '-', '*', '/']\n",
        "number1 = int(input(\"Введите первое число: \"))\n",
        "operand = input(f'Введите один из следующих операндов ({\", \".join(available_operands)}): ')\n",
        "number2 = int(input(\"Введите второе число: \"))\n",
        "results = {\n",
        "    '*': lambda x, y: x * y,\n",
        "    '/': lambda x, y: x / y,\n",
        "    '+': lambda x, y: x + y,\n",
        "    '-': lambda x, y: x - y,\n",
        "}\n",
        "if operand in available_operands:\n",
        "    print(results[operand](number1, number2))\n",
        "else:\n",
        "    print(\"Вы ввели неверный операнд.\")"
      ],
      "metadata": {
        "id": "wR5UyEf7ciIE",
        "colab": {
          "base_uri": "https://localhost:8080/"
        },
        "outputId": "9df34dec-3333-474a-ea5f-9c6d5e83b0c6"
      },
      "execution_count": null,
      "outputs": [
        {
          "output_type": "stream",
          "name": "stdout",
          "text": [
            "Введите первое число: 2\n",
            "Введите один из следующих операндов (+, -, *, /): +\n",
            "Введите второе число: 4\n",
            "6\n"
          ]
        }
      ]
    },
    {
      "cell_type": "markdown",
      "source": [
        "# Практика 0.2.1"
      ],
      "metadata": {
        "id": "XWBhGpdEFo-U"
      }
    },
    {
      "cell_type": "markdown",
      "source": [
        "**Шахматы**\n",
        "\n",
        "Даны стартовые и конечные координаты, а также фигура\n",
        "\n",
        "Необходимо определить, может ли заданная фигура так ходить?"
      ],
      "metadata": {
        "id": "9Lw9odpqFwtn"
      }
    },
    {
      "cell_type": "code",
      "source": [
        "words = {\n",
        "    'A': 1,\n",
        "    'B': 2,\n",
        "    'C': 3,\n",
        "    'D': 4,\n",
        "    'E': 5,\n",
        "    'F': 6,\n",
        "    'G': 7,\n",
        "    'H': 8\n",
        "}\n",
        "\n",
        "figures = [\n",
        "    'pawn',\n",
        "    'knight',\n",
        "    'bishop',\n",
        "    'rook',\n",
        "    'queen',\n",
        "    'king'\n",
        "]\n",
        "\n",
        "current_figure = input(f\"Введите фигуру (выберите и списка {', '.join(figures)}): \")\n",
        "\n",
        "position = input(f\"Введите ваш ход (в формате <буква><цифра>-<буква><цифра>): \")\n",
        "\n",
        "start_position = list(position.split('-')[0])\n",
        "end_position = list(position.split('-')[1])\n",
        "\n",
        "start_coordinates = [\n",
        "    words[start_position[0]],\n",
        "    int(start_position[1])\n",
        "]\n",
        "\n",
        "end_coordinates = [\n",
        "    words[end_position[0]],\n",
        "    int(end_position[1])\n",
        "]\n",
        "\n",
        "vector = [start_coordinates, end_coordinates]\n",
        "\n",
        "vector_coordinates = [\n",
        "    end_coordinates[0] - start_coordinates[0],\n",
        "    end_coordinates[1] - start_coordinates[1]\n",
        "]\n",
        "\n",
        "is_move_in_borders = end_coordinates[0] in range(1, 9) and end_coordinates[1] in range(1, 9)\n",
        "is_move_is_zero = vector_coordinates[0] == 0 and vector_coordinates[1] == 0\n",
        "\n",
        "def move_queen():\n",
        "    if not is_move_in_borders or is_move_is_zero:\n",
        "      return False\n",
        "    if abs(vector_coordinates[0]) != abs(vector_coordinates[1]) \\\n",
        "      and vector_coordinates[0] != 0 \\\n",
        "      and vector_coordinates[1] != 0:\n",
        "        return False\n",
        "    return True\n",
        "\n",
        "\n",
        "def move_king():\n",
        "    if not is_move_in_borders or is_move_is_zero:\n",
        "        return False\n",
        "    if abs(vector_coordinates[0]) != abs(vector_coordinates[1]) \\\n",
        "      and vector_coordinates[0] != 0 \\\n",
        "      and vector_coordinates[1] != 0:\n",
        "        return False\n",
        "    if abs(vector_coordinates[0]) > 1 or abs(vector_coordinates[1]) > 1:\n",
        "        return False\n",
        "    return True\n",
        "\n",
        "\n",
        "def move_rook():\n",
        "    if not is_move_in_borders or is_move_is_zero:\n",
        "        return False\n",
        "    if vector_coordinates[0] != 0 and vector_coordinates[1] != 0:\n",
        "        return False\n",
        "    return True\n",
        "\n",
        "def move_bishop():\n",
        "    if not is_move_in_borders or is_move_is_zero:\n",
        "        return False\n",
        "    if abs(vector_coordinates[0]) != abs(vector_coordinates[1]):\n",
        "        return False\n",
        "    return True\n",
        "\n",
        "def move_knight():\n",
        "    if not is_move_in_borders or is_move_is_zero:\n",
        "        return False\n",
        "    if abs(vector_coordinates[0]) == 1 and abs(vector_coordinates[1]) == 2\\\n",
        "      or abs(vector_coordinates[0]) == 2 and abs(vector_coordinates[1]) == 1:\n",
        "        return True\n",
        "    return False\n",
        "\n",
        "\n",
        "def move_pawn():\n",
        "    if not is_move_in_borders or is_move_is_zero:\n",
        "        return False\n",
        "    if vector_coordinates[0] != 0 or vector_coordinates[1] == 0:\n",
        "        return False\n",
        "    if start_coordinates[1] != 2 and start_coordinates[1] != 7 and vector_coordinates[1] > 1:\n",
        "        return False\n",
        "    if (start_coordinates[1] == 2 or start_coordinates[1] == 7) and vector_coordinates[1] > 2:\n",
        "        return False\n",
        "    if (start_coordinates[1] == 8 or start_coordinates[1] == 1):\n",
        "        return False\n",
        "    return True\n",
        "\n",
        "\n",
        "\n",
        "figures_moves = {\n",
        "    'pawn': move_pawn,\n",
        "    'knight': move_knight,\n",
        "    'bishop': move_bishop,\n",
        "    'rook': move_rook,\n",
        "    'queen': move_queen,\n",
        "    'king': move_king\n",
        "}\n",
        "\n",
        "print(\"Этот ход возможен\" if figures_moves[current_figure]() else \"Этот ход невозможен\")\n"
      ],
      "metadata": {
        "id": "9IICo0p3F07P"
      },
      "execution_count": null,
      "outputs": []
    },
    {
      "cell_type": "markdown",
      "source": [
        "# Практика 0.2.2\n",
        "\n",
        "**Цифра на определенном месте:**\n",
        "\n",
        "Последовательно записан натуральный ряд чисел.\n",
        "\n",
        "Какая цифра стоит в N позиции"
      ],
      "metadata": {
        "id": "wI5bLNpHGDmO"
      }
    },
    {
      "cell_type": "code",
      "source": [
        "\n",
        "numbers = input('Введите последовательность натуральных чисел через пробел: ').split()\n",
        "edited_numbers = [i for num in numbers for i in num]\n",
        "N = int(input(\"Введите позицию, с которой хотите взять цифру N (min=1): \"))\n",
        "print(f\"Цифра на позиции {N} - это \" + edited_numbers[N-1])\n"
      ],
      "metadata": {
        "id": "XLm_zFGzGNsU",
        "colab": {
          "base_uri": "https://localhost:8080/"
        },
        "outputId": "664d013d-8c54-4c8f-8820-d6f9c231e4e5"
      },
      "execution_count": null,
      "outputs": [
        {
          "output_type": "stream",
          "name": "stdout",
          "text": [
            "Введите последовательность натуральных чисел через пробел: 425 65 55\n",
            "Введите позицию, с которой хотите взять цифру N (min=1): 4\n",
            "Цифра на позиции 4 - это 6\n"
          ]
        }
      ]
    },
    {
      "cell_type": "markdown",
      "source": [
        "# Практика 0.2.3\n",
        "\n",
        "\n",
        "Возьмите код из задания 7 и улучшите ваш калькулятор следующим образом:\n",
        "\n",
        "Пользователь вводит строку вида:\n",
        "\n",
        "(5+5)*5 - данная строка содержит в себе математическое выражение, а также скобки\n",
        "\n",
        "Ваша программа должная понять что за математическое выражение записано, проверить верно ли оно записано (пример неверного заполнения: (5(+)5)*5, а также расчитать его в соотвествии с правилами математики"
      ],
      "metadata": {
        "id": "dpxTJv-scnMy"
      }
    },
    {
      "cell_type": "code",
      "source": [
        "import re\n",
        "\n",
        "\n",
        "def process_brackets(formula: str):\n",
        "    formula = formula.replace(' ', '')\n",
        "    idx = 0\n",
        "    indexes = []\n",
        "    formula_tree = []\n",
        "    for i in formula:\n",
        "        if i == '(':\n",
        "            inside_list = formula_tree\n",
        "            for j in indexes:\n",
        "                inside_list = inside_list[j]\n",
        "            inside_list.append([])\n",
        "            indexes.append(idx)\n",
        "            idx = 0\n",
        "            continue\n",
        "\n",
        "        if i == ')' and len(indexes) == 0:\n",
        "            raise Exception('Неверное выражение (скобки без выражения в них)')\n",
        "        if i == ')':\n",
        "            idx = indexes.pop(-1) + 1\n",
        "            continue\n",
        "\n",
        "        idx += 1\n",
        "        inside_list = formula_tree\n",
        "        for j in indexes:\n",
        "            inside_list = inside_list[j]\n",
        "        inside_list.append(i)\n",
        "    return formula_tree\n",
        "\n",
        "results = {\n",
        "    '*': lambda x, y: x * y,\n",
        "    '/': lambda x, y: x / y,\n",
        "    '+': lambda x, y: x + y,\n",
        "    '-': lambda x, y: x - y,\n",
        "}\n",
        "math_operands = [key for key in results]\n",
        "\n",
        "def process_tree(l):\n",
        "    number = ''\n",
        "    operand = None\n",
        "    last_item_is_list = False\n",
        "\n",
        "    processed_list = []\n",
        "\n",
        "    for item in l:\n",
        "        if not number and item in math_operands:\n",
        "            raise Exception('Неверное выражение (операнд без числа до него)')\n",
        "        if item in math_operands:\n",
        "            operand = item\n",
        "            processed_list.append(float(number))\n",
        "            processed_list.append(operand)\n",
        "            last_item_is_list = False\n",
        "            number = ''\n",
        "            continue\n",
        "        if number and not operand and isinstance(item, list):\n",
        "            print(number, operand, item)\n",
        "            raise Exception('Неверное выражение (не найден операнд между цифрой и скобками)')\n",
        "        if isinstance(item, list):\n",
        "            operand = None\n",
        "            last_item_is_list = True\n",
        "            number = str(process_tree(item))\n",
        "            continue\n",
        "        operand = None\n",
        "        if last_item_is_list:\n",
        "            raise Exception('Неверное выражение (не найден операнд между цифрой и скобками)')\n",
        "        number += item\n",
        "    processed_list.append(float(number))\n",
        "\n",
        "    while '*' in processed_list or '/' in processed_list:\n",
        "        for idx, value in enumerate(processed_list):\n",
        "            if re.compile('^[*/]$').match(str(value)):\n",
        "                break\n",
        "        i = processed_list[idx]\n",
        "        processed_list[idx - 1] = results[i](processed_list[idx - 1], processed_list[idx + 1])\n",
        "        del processed_list[idx]\n",
        "        del processed_list[idx]\n",
        "\n",
        "    while '+' in processed_list or '-' in processed_list:\n",
        "        for idx, value in enumerate(processed_list):\n",
        "            if re.compile('^[+-]$').match(str(value)):\n",
        "                break\n",
        "        i = processed_list[idx]\n",
        "        processed_list[idx - 1] = results[i](processed_list[idx - 1], processed_list[idx + 1])\n",
        "        del processed_list[idx]\n",
        "        del processed_list[idx]\n",
        "\n",
        "\n",
        "    return processed_list[0]\n",
        "\n",
        "formula = input('Введите выражение: ')\n",
        "formula_tree = process_brackets(formula)\n",
        "print(process_tree(formula_tree), process_tree(formula_tree) == eval(formula))"
      ],
      "metadata": {
        "id": "18gOluyHcmmf",
        "colab": {
          "base_uri": "https://localhost:8080/"
        },
        "outputId": "7c1b9eed-93e4-4d2a-ac62-f56092f1d15d"
      },
      "execution_count": null,
      "outputs": [
        {
          "output_type": "stream",
          "name": "stdout",
          "text": [
            "Введите выражение: (8*6+5-9/3+(45-98*(89-9))+87)\n",
            "-7658.0 True\n"
          ]
        }
      ]
    },
    {
      "cell_type": "code",
      "source": [],
      "metadata": {
        "id": "nwFvycTidSG4"
      },
      "execution_count": null,
      "outputs": []
    }
  ]
}