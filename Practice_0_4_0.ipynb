{
  "nbformat": 4,
  "nbformat_minor": 0,
  "metadata": {
    "colab": {
      "provenance": [],
      "include_colab_link": true
    },
    "kernelspec": {
      "name": "python3",
      "display_name": "Python 3"
    },
    "language_info": {
      "name": "python"
    }
  },
  "cells": [
    {
      "cell_type": "markdown",
      "metadata": {
        "id": "view-in-github",
        "colab_type": "text"
      },
      "source": [
        "<a href=\"https://colab.research.google.com/github/Mafia3641/Collab_practice/blob/main/Practice_0_4_0.ipynb\" target=\"_parent\"><img src=\"https://colab.research.google.com/assets/colab-badge.svg\" alt=\"Open In Colab\"/></a>"
      ]
    },
    {
      "cell_type": "markdown",
      "source": [
        "Введите ваше ФИО:"
      ],
      "metadata": {
        "id": "k8oVfdwrMXyc"
      }
    },
    {
      "cell_type": "code",
      "execution_count": null,
      "metadata": {
        "id": "5mcBLsKMI1-5"
      },
      "outputs": [],
      "source": [
        "********* Степан ************* ***"
      ]
    },
    {
      "cell_type": "markdown",
      "source": [
        "***Дисклеймер***\n",
        "\n",
        "В данной практике запрещено использования функций:\n",
        "\n",
        "\n",
        "*   sum()\n",
        "*   min()\n",
        "*   max()\n",
        "*   average()\n",
        "*   reversed()\n",
        "*   sorted()\n",
        "*   готовые функции или библиотеки\n"
      ],
      "metadata": {
        "id": "8HbYUbm3Jw3o"
      }
    },
    {
      "cell_type": "markdown",
      "source": [
        "\n",
        "**Задача 1:**\n",
        "\n",
        "\n",
        "\n",
        "Интернет-магазин предлагает следующие условия скидок:\n",
        "\n",
        "*   Для заказов больше 1000 единиц, клиент получает скидку 5%. Если клиент использует промокод SUPERDISCOUNT, он получает скидку 10% (вместо 5%).\n",
        "*  Для заказов более 5000 единиц, клиент получает скидку 15%, а использование промокода SUPERDISCOUNT увеличивает скидку до 20% (вместо 15%).\n",
        "\n",
        "Этап 1:\n",
        "Ввод:\n",
        "```\n",
        "Введите стоимость единицы товара: 5\n",
        "Введите количество товара: 1001\n",
        "Введите промокод: GiVEMEDISCONT\n",
        "```\n",
        "\n",
        "Вывод:\n",
        "\n",
        "```\n",
        "Ваша скидка: 5%\n",
        "Итоговая сумма: 4754.75\n",
        "```\n",
        "Этап 2:\n",
        "\n",
        "Оформите ваш код в виде функции"
      ],
      "metadata": {
        "id": "HmX0c6YPJSQr"
      }
    },
    {
      "cell_type": "code",
      "source": [
        "s = int(input())\n",
        "count = int(input())\n",
        "promo = input().lower()\n",
        "disc = 0\n",
        "\n",
        "if promo == \"superdiscount\":\n",
        "    disc += 5\n",
        "\n",
        "def total_price(count, s, disc):\n",
        "    print(count, s, disc)\n",
        "    if count > 5000:\n",
        "        print(1)\n",
        "        return disc + 15\n",
        "    elif count > 1000:\n",
        "        print(2)\n",
        "        return disc+5\n",
        "    else:\n",
        "        pass\n",
        "    return disc\n",
        "\n",
        "disc = total_price(count, s, disc)\n",
        "\n",
        "print(f\"Total discount is: {disc}%\")\n",
        "print(f\"Total price is: {(count*s)*(1.00 - 0.01 * disc):.2f}\")"
      ],
      "metadata": {
        "id": "OAIMIpklMN5D"
      },
      "execution_count": null,
      "outputs": []
    },
    {
      "cell_type": "markdown",
      "source": [
        "**Задача 2:**\n",
        "\n",
        "Этап 1:\n",
        "Напишите программу способную отфильтровать список и вывести только положительные элементы\n",
        "\n",
        "\n",
        "Ввод:\n",
        "```\n",
        "-1 5 1 2 -3\n",
        "```\n",
        "\n",
        "Вывод:\n",
        "\n",
        "```\n",
        "5 1 2\n",
        "```\n",
        "\n",
        "Этап 2:\n",
        "\n",
        "Оформите ваш код в виде функции"
      ],
      "metadata": {
        "id": "eeRVWpuLNGJ0"
      }
    },
    {
      "cell_type": "code",
      "source": [
        "def f(x=list):\n",
        "    a = []\n",
        "    for i in x:\n",
        "        i = int(i)\n",
        "        if i >= 0:\n",
        "            a.append(i)\n",
        "    return a\n",
        "\n",
        "x = str(input())\n",
        "x = x.split()\n",
        "\n",
        "print(f(x))"
      ],
      "metadata": {
        "id": "Xbi6bL0WOE9N"
      },
      "execution_count": null,
      "outputs": []
    },
    {
      "cell_type": "markdown",
      "source": [
        "**Задача 3:**\n",
        "\n",
        "Этап 1:\n",
        "Напишите программу реализующую Алгоритм Евклида\n",
        "\n",
        "\n",
        "> Алгоритм Евклида – это алгоритм нахождения наибольшего общего делителя (НОД) пары целых чисел.\n",
        "\n",
        "\n",
        "\n",
        "Ввод:\n",
        "```\n",
        "30 18\n",
        "```\n",
        "\n",
        "Вывод:\n",
        "\n",
        "```\n",
        "6\n",
        "```\n",
        "\n",
        "Этап 2:\n",
        "Оформите ваш код в виде функции\n"
      ],
      "metadata": {
        "id": "lV-w6G-POa6F"
      }
    },
    {
      "cell_type": "code",
      "source": [
        "def f(n1, n2):\n",
        "    max_del = 0\n",
        "    for i1 in range(1, min(n1, n2)):\n",
        "        if n1 % i1 == 0 and n2 % i1 == 0:\n",
        "            max_del = max(max_del, i1)\n",
        "    return max_del\n",
        "\n",
        "print(f(int(input()), int(input())))"
      ],
      "metadata": {
        "id": "43Dl5tIpOZsu"
      },
      "execution_count": null,
      "outputs": []
    },
    {
      "cell_type": "markdown",
      "source": [
        "**Задача 4:**\n",
        "\n",
        "Этап 1:\n",
        "Напишите функцию программу, которая принимает строку и возвращает список слов и количество их упомнинаний в предложении\n",
        "\n",
        "Этап 2:\n",
        "Оформите ваш код в виде функции\n",
        "\n",
        "Ввод:\n",
        "```\n",
        "apple banana apple\n",
        "```\n",
        "\n",
        "Вывод:\n",
        "\n",
        "```\n",
        "apple: 2,\n",
        "banana: 1\n",
        "```"
      ],
      "metadata": {
        "id": "WIfPFxpsO0zL"
      }
    },
    {
      "cell_type": "code",
      "source": [
        "def upom(string):\n",
        "    a = []\n",
        "    word_set = list(set(string))\n",
        "    print(word_set)\n",
        "    for word in word_set:\n",
        "        c = 0\n",
        "        for i in string:\n",
        "            if i == word:\n",
        "                c+=1\n",
        "        a.append(f\"{word}: {c}\")\n",
        "    a.sort()\n",
        "    return a\n",
        "\n",
        "string = str(input())\n",
        "string = string.split()\n",
        "print(upom(string))"
      ],
      "metadata": {
        "id": "DgsmFeW5Po_x"
      },
      "execution_count": null,
      "outputs": []
    },
    {
      "cell_type": "markdown",
      "source": [
        "**Задача 5:**\n",
        "\n",
        "Этап 1:\n",
        "Детектор анаграмм Напишите программу на Python, которая принимает в качестве входных данных две строки и проверяет, являются ли они анаграммами друг друга\n",
        "\n",
        "Этап 2:\n",
        "Оформите ваш код в виде функции\n",
        "\n",
        "Ввод:\n",
        "```\n",
        "listen, silent\n",
        "```\n",
        "\n",
        "Вывод:\n",
        "\n",
        "```\n",
        "True\n",
        "```"
      ],
      "metadata": {
        "id": "5BmIJLUZP9I-"
      }
    },
    {
      "cell_type": "code",
      "source": [
        "def f(words):\n",
        "    if list(set(words[0])) == list(set(words[1])) and len(words[0]) == len(words[1]):\n",
        "        return True\n",
        "    return False\n",
        "\n",
        "print(f(str(input()).replace(',', '').split()))"
      ],
      "metadata": {
        "id": "7LNW8DuHQJwH"
      },
      "execution_count": null,
      "outputs": []
    },
    {
      "cell_type": "markdown",
      "source": [
        "**Задача 6:**\n",
        "\n",
        "Шифр ​​Цезаря\n",
        "\n",
        "Напишите программу на Python, которая реализует шифр Цезаря, простой метод шифрования, который заменяет каждую букву буквой на фиксированное количество позиций вниз по алфавиту. Программа должна запрашивать у пользователя сообщение и значение сдвига, а затем шифровать и расшифровывать сообщение.\n",
        "\n",
        "Этап 1:\n",
        "\n",
        "Напишите код для реализации данной задачи\n",
        "\n",
        "Этап 2:\n",
        "\n",
        "Оформите код в виде нескольких функций:\n",
        "\n",
        "* Зашифровывает сообщение\n",
        "* Расшифровывает сообщение"
      ],
      "metadata": {
        "id": "-SIWYSq2QKBh"
      }
    },
    {
      "cell_type": "code",
      "source": [
        "def shifr(word, sdv):\n",
        "    sh_word = word\n",
        "    try:\n",
        "        for i in word:\n",
        "            pos_i = alph.index(i)\n",
        "            sh_word = sh_word.replace(i, alph[pos_i+sdv], 1)\n",
        "    except:\n",
        "        print(\"Unable to code this word! \")\n",
        "    return sh_word\n",
        "\n",
        "def deshifr(word, sdv):\n",
        "    desh_word = word\n",
        "    try:\n",
        "        for i in word:\n",
        "            pos_i = alph.index(i)\n",
        "            desh_word = desh_word.replace(i, alph[pos_i - sdv], 1)\n",
        "    except:\n",
        "        print(\"Unable to uncode this word! \")\n",
        "    return desh_word\n",
        "\n",
        "alph = 'abcdefghijklmnopqrstuvwxyz'\n",
        "sdv = int(input(\"Sdvig by: \"))\n",
        "word = str(input(\"Enter word: \"))\n",
        "\n",
        "print(shifr(word, sdv))\n",
        "word = shifr(word, sdv)\n",
        "print(deshifr(word, sdv))"
      ],
      "metadata": {
        "id": "anThYirsQe6N"
      },
      "execution_count": null,
      "outputs": []
    },
    {
      "cell_type": "markdown",
      "source": [
        "**Задача 7**\n",
        "\n",
        "Задача: «Банковская система»\n",
        "\n",
        "Создайте программу Python, которая имитирует базовую банковскую систему. Система должна иметь следующие функции:\n",
        "\n",
        "Требования\n",
        "*   Система должна позволять клиентам создавать счета и хранить их балансы.\n",
        "*   Система должна позволять клиентам вносить и снимать деньги со своих счетов.\n",
        "*   Система должна позволять клиентам проверять свой текущий баланс.\n",
        "*   Система должна позволять клиентам переводить деньги между счетами.\n",
        "*   Система должна отслеживать транзакции (депозиты, снятия и переводы) и иметь возможность печатать детали транзакций.\n",
        "\n",
        "\n",
        "Задачи\n",
        "1. Реализуйте банковскую систему, используя только базовые конструкции Python, такие как def, lists, if, elif и else, без классов или словарей.\n",
        "Определите функции для создания счетов, внесения и снятия денег, получения балансов счетов, перевода денег между счетами, а также создания и печати транзакций.\n",
        "2. Напишите основную функцию, которая демонстрирует использование банковской системы путем создания счетов, внесения и снятия денег и перевода денег между счетами.\n",
        "3. Бонусное задание\n",
        "Реализуйте способ хранения и печати истории транзакций для каждого счета.\n",
        "\n",
        "Ограничения\n",
        "Не используйте классы или словари.\n",
        "Используйте только базовые конструкции Python, такие как def, lists, if, elif и else.\n"
      ],
      "metadata": {
        "id": "avFZRRXrQz9O"
      }
    },
    {
      "cell_type": "code",
      "source": [
        "def create_account(name):\n",
        "    money = 0\n",
        "    accounts_list.append([name, money])\n",
        "    last_transaction(name, 'Account created')\n",
        "\n",
        "\n",
        "def check_avaliable(name, money):\n",
        "    us_index = find_user(name)\n",
        "    if accounts_list[us_index][1] >= money:\n",
        "        return True\n",
        "    return False\n",
        "\n",
        "def find_user(name):\n",
        "    c = 0\n",
        "    for i in accounts_list:\n",
        "        if name in i:\n",
        "            name_index = c\n",
        "        else:\n",
        "            c += 1\n",
        "    return name_index\n",
        "\n",
        "def place_money(name, money):\n",
        "    us_index = find_user(name)\n",
        "    accounts_list[us_index][1] += money\n",
        "    last_transaction(name, f'Added money on account - {money} ')\n",
        "def get_money(name, money):\n",
        "    us_index = find_user(name)\n",
        "    if check_avaliable(name, money):\n",
        "        accounts_list[us_index][1] -= money\n",
        "        print('Success! ')\n",
        "    else:\n",
        "        print(\"Not enough money for this! \")\n",
        "    last_transaction(name, f'Get money from account - {money} ')\n",
        "def check_account(name):\n",
        "    us_index = find_user(name)\n",
        "    print(f\"For this moment you have {accounts_list[us_index][1]} dollars on your account \")\n",
        "\n",
        "def transfer_money(sender_name, receiver_name, money):\n",
        "    sender_us_index = find_user(sender_name)\n",
        "    receiver_us_index = find_user(receiver_name)\n",
        "    if check_avaliable(sender_name, money):\n",
        "        accounts_list[sender_us_index][1] -= money\n",
        "        accounts_list[receiver_us_index][1] += money\n",
        "        print(\"Success! \")\n",
        "    else:\n",
        "        print(\"Not enough money for this! \")\n",
        "    last_transaction(sender_name, f'{sender_name} sended {money} dollars to {receiver_name} ')\n",
        "    last_transaction(receiver_name, f'{receiver_name} got {money} dollars from {sender_name} ')\n",
        "\n",
        "def last_transaction(name, action):\n",
        "    transactions_list.append([name, action])\n",
        "\n",
        "\n",
        "transactions_list = []\n",
        "accounts_list = []\n",
        "\n",
        "\n",
        "while True:\n",
        "    request = input(\"What do you need? \").lower()\n",
        "    if 'снять' in request or 'получить' in request:\n",
        "        try:\n",
        "            get_money(input(\"Enter your account name: \"), int(input(\"How much: \")))\n",
        "        except:\n",
        "            print(\"Something is wrong! \\n\")\n",
        "\n",
        "    elif 'создать' in request or 'новый' in request:\n",
        "        create_account(input(\"Enter your new account name: \"))\n",
        "\n",
        "    elif 'внести' in request or 'добавить' in request or 'пополнить' in request or 'положить' in request:\n",
        "        try:\n",
        "            place_money(input(\"Enter your accounts name: \"), int(input(\"How much: \")))\n",
        "        except:\n",
        "            print(\"Something is wrong! \\n\")\n",
        "\n",
        "    elif 'проверить' in request or 'баланс' in request:\n",
        "        try:\n",
        "            check_account(input(\"Enter your accounts name: \"))\n",
        "        except:\n",
        "            print(\"Something is wrong! \\n\")\n",
        "\n",
        "    elif 'транзакции' in request or 'транзакция' in request:\n",
        "        password = int(input(\"Enter password: \"))\n",
        "        if password == 1111:\n",
        "            print(transactions_list[-1])"
      ],
      "metadata": {
        "colab": {
          "base_uri": "https://localhost:8080/"
        },
        "id": "dWEW10zIRwjs",
        "outputId": "761d1d03-5ecd-47b4-9ec3-d964c25fe29a"
      },
      "execution_count": null,
      "outputs": [
        {
          "output_type": "stream",
          "name": "stdout",
          "text": [
            "John Doe's current balance: $500\n",
            "Transaction: Initial deposit, $1000, deposit\n",
            "Transaction: Withdrawal, $500, withdrawal\n",
            "Jane Doe's current balance: $200\n"
          ]
        }
      ]
    }
  ]
}
