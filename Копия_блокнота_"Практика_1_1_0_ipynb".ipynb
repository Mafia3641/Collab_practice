{
  "nbformat": 4,
  "nbformat_minor": 0,
  "metadata": {
    "colab": {
      "provenance": [],
      "include_colab_link": true
    },
    "kernelspec": {
      "name": "python3",
      "display_name": "Python 3"
    },
    "language_info": {
      "name": "python"
    }
  },
  "cells": [
    {
      "cell_type": "markdown",
      "metadata": {
        "id": "view-in-github",
        "colab_type": "text"
      },
      "source": [
        "<a href=\"https://colab.research.google.com/github/Mafia3641/Collab_practice/blob/main/%D0%9A%D0%BE%D0%BF%D0%B8%D1%8F_%D0%B1%D0%BB%D0%BE%D0%BA%D0%BD%D0%BE%D1%82%D0%B0_%22%D0%9F%D1%80%D0%B0%D0%BA%D1%82%D0%B8%D0%BA%D0%B0_1_1_0_ipynb%22.ipynb\" target=\"_parent\"><img src=\"https://colab.research.google.com/assets/colab-badge.svg\" alt=\"Open In Colab\"/></a>"
      ]
    },
    {
      "cell_type": "markdown",
      "source": [
        "**ФИО:**"
      ],
      "metadata": {
        "id": "GEsFKJm-ABFp"
      }
    },
    {
      "cell_type": "code",
      "execution_count": null,
      "metadata": {
        "id": "wZMLYG_G_-19"
      },
      "outputs": [],
      "source": [
        "Стрепетов Степан Дмитриевич ПИИ"
      ]
    },
    {
      "cell_type": "markdown",
      "source": [
        "# Задание 1"
      ],
      "metadata": {
        "id": "H4DrYnJjADuZ"
      }
    },
    {
      "cell_type": "markdown",
      "source": [
        "**Описание:** Создайте иерархию классов для разных типов сотрудников в компании. Реализуйте родительский класс Employee и дочерние классы Manager и Developer. Каждый класс должен иметь метод для расчета зарплаты на основе различных критериев класса.\n",
        "\n",
        "\n",
        "Отрабатываемый принцип: Наследование\n",
        "\n"
      ],
      "metadata": {
        "id": "C17FWep-AF4a"
      }
    },
    {
      "cell_type": "code",
      "source": [
        "class Employee:\n",
        "\n",
        "    empoyee_type = 'no type'\n",
        "    default_salary = 200\n",
        "    default_working_hours = 150\n",
        "\n",
        "    def __init__(self, name, work_experience, e_type=empoyee_type):\n",
        "        self.name = name\n",
        "        self.work_exp = work_experience\n",
        "        self.type = e_type\n",
        "        print(\"Employee stats: \")\n",
        "        print(f'Employee name is {name}')\n",
        "        print(f'Experience: {work_experience}')\n",
        "        print(f'Type: {e_type}')\n",
        "        print(\"_____________________________________\")\n",
        "\n",
        "        if self.work_exp >= 1:\n",
        "            self.default_salary+=10\n",
        "        elif self.work_exp >= 5:\n",
        "            self.default_salary+=15\n",
        "    def curr_salary(self, extra_hours=0):\n",
        "        extra_payment = extra_hours * self.default_salary * 1.5\n",
        "        salary = self.default_salary*self.default_working_hours\n",
        "        print(f'Current salary for {self.name} is {(salary + extra_payment):.0f} rubels per month. ')\n",
        "        print(f'Must work hours: {self.default_working_hours} per month. ')\n",
        "\n",
        "class Manager(Employee):\n",
        "\n",
        "    empoyee_type = 'Manager'\n",
        "    default_salary = 260\n",
        "    default_working_hours = 170\n",
        "\n",
        "    def __init__(self, name, work_experience, e_type=empoyee_type):\n",
        "        super().__init__(name, work_experience, e_type)\n",
        "\n",
        "    def curr_salary(self, extra_hours=0):\n",
        "        extra_payment = extra_hours * self.default_salary * 1.5\n",
        "        salary = self.default_salary * self.default_working_hours\n",
        "        print(f'Current salary for {self.name} is {(salary + extra_payment):.0f} rubels per month. ')\n",
        "        print(f'Must work hours: {self.default_working_hours} per month. ')\n",
        "\n",
        "\n",
        "class Developer(Employee):\n",
        "    empoyee_type = 'Developer'\n",
        "    default_salary = 380\n",
        "    default_working_hours = 200\n",
        "\n",
        "    def __init__(self, name, work_experience, e_type=empoyee_type):\n",
        "        super().__init__(name, work_experience, e_type)\n",
        "\n",
        "    def curr_salary(self, extra_hours=0):\n",
        "        extra_payment = extra_hours * self.default_salary * 1.5\n",
        "        salary = self.default_salary * self.default_working_hours\n",
        "        print(f'Current salary for {self.name} is {(salary + extra_payment):.0f} rubels per month. ')\n",
        "        print(f'Must work hours: {self.default_working_hours} per month. ')\n",
        "\n",
        "kate = Manager('Kate', 0)\n",
        "mark = Employee('Mark', 2)\n",
        "tom = Developer('Tom', 6)\n",
        "\n",
        "\n",
        "kate.curr_salary()\n",
        "mark.curr_salary(10)\n",
        "tom.curr_salary()\n"
      ],
      "metadata": {
        "id": "aexGXzqCAFH7"
      },
      "execution_count": null,
      "outputs": []
    },
    {
      "cell_type": "markdown",
      "source": [
        "# Задание 2"
      ],
      "metadata": {
        "id": "ERAi0TG5BI6v"
      }
    },
    {
      "cell_type": "markdown",
      "source": [
        "**Описание:** Создайте иерархию классов для различных типов транспортных средств (Необходим один родительский класс и 3 дочерних). Реализуйте метод, который позволяет каждому транспортному средству возвращать собственное описание (Метод в каждом классе должен иметь одинаковое название). Продемонстрируйте вызов данного метода для каждого транспортного средства.\n",
        "\n",
        "\n",
        "Отрабатываемый принцип: Полиморфизм"
      ],
      "metadata": {
        "id": "sJ3k7ZcgBK87"
      }
    },
    {
      "cell_type": "code",
      "source": [
        "\n",
        "class Vechicle:\n",
        "    type = 'No type'\n",
        "    wheels = 'no info'\n",
        "    road_type = 'No type'\n",
        "\n",
        "    def __init__(self, max_speed, max_weight, type=type, wheels=wheels, road_type=road_type):\n",
        "        self.speed = max_speed\n",
        "        self.weight = max_weight\n",
        "\n",
        "    def check_info(self):\n",
        "        print(\"_______________________________________\")\n",
        "        print('Current info: ')\n",
        "        print(f'Type = {self.type}: ')\n",
        "        print(f'Max speed = {self.speed}, ')\n",
        "        print(f'Max weight = {self.weight}, ')\n",
        "        print(f'Wheels = {self.wheels}. ')\n",
        "        print(f'Road type = {self.road_type}. ')\n",
        "        print(\"_______________________________________\")\n",
        "        print()\n",
        "\n",
        "\n",
        "class Car(Vechicle):\n",
        "    type = 'Car'\n",
        "    wheels = 4\n",
        "    road_type = 'ground'\n",
        "    def __init__(self, max_speed, max_weight):\n",
        "        super().__init__(max_speed, max_weight)\n",
        "\n",
        "    def check_info(self):\n",
        "        print(\"_______________________________________\")\n",
        "        print('Current info: ')\n",
        "        print(f'Type = {self.type}: ')\n",
        "        print(f'Max speed = {self.speed}, ')\n",
        "        print(f'Max weight = {self.weight}, ')\n",
        "        print(f'Wheels = {self.wheels}. ')\n",
        "        print(f'Road type = {self.road_type}. ')\n",
        "        print(\"_______________________________________\")\n",
        "        print()\n",
        "\n",
        "class Train(Vechicle):\n",
        "    type = 'Train'\n",
        "    wheels_per_carriage = 8\n",
        "    road_type = 'ground'\n",
        "    def __init__(self, max_speed, max_weight, carriages):\n",
        "        super().__init__(max_speed, max_weight)\n",
        "        self.wheels = carriages * self.wheels_per_carriage\n",
        "\n",
        "    def check_info(self):\n",
        "        print(\"_______________________________________\")\n",
        "        print('Current info: ')\n",
        "        print(f'Type = {self.type}: ')\n",
        "        print(f'Max speed = {self.speed}, ')\n",
        "        print(f'Max weight = {self.weight}, ')\n",
        "        print(f'Wheels = {self.wheels}. ')\n",
        "        print(f'Road type = {self.road_type}. ')\n",
        "        print(\"_______________________________________\")\n",
        "        print()\n",
        "\n",
        "\n",
        "class Boat(Vechicle):\n",
        "    type = 'Boat'\n",
        "    wheels = 0\n",
        "    road_type = 'water'\n",
        "    def __init__(self, max_speed, max_weight):\n",
        "        super().__init__(max_speed, max_weight)\n",
        "\n",
        "    def check_info(self):\n",
        "        print(\"_______________________________________\")\n",
        "        print('Current info: ')\n",
        "        print(f'Type = {self.type}: ')\n",
        "        print(f'Max speed = {self.speed}, ')\n",
        "        print(f'Max weight = {self.weight}, ')\n",
        "        print(f'Wheels = {self.wheels}. ')\n",
        "        print(f'Road type = {self.road_type}. ')\n",
        "        print(\"_______________________________________\")\n",
        "        print()\n",
        "\n",
        "\n",
        "\n",
        "\n",
        "# Класс автомобиль (макс скорость, макс нагрузка)\n",
        "bmw = Car(350, 1000)\n",
        "\n",
        "# Класс поезд (макс скорость, макс нагрузка, количество вагонов)\n",
        "aurora = Train(200, 50_000, 6)\n",
        "\n",
        "# Класс лодка (макс скорость, макс нагрузка)\n",
        "vityaz = Boat(100, 4_000)\n",
        "\n",
        "\n",
        "bmw.check_info()\n",
        "aurora.check_info()\n",
        "vityaz.check_info()\n"
      ],
      "metadata": {
        "id": "WOFOZQmDBKf4"
      },
      "execution_count": null,
      "outputs": []
    },
    {
      "cell_type": "markdown",
      "source": [
        "# Задание 3"
      ],
      "metadata": {
        "id": "7E_SJXMJBvD4"
      }
    },
    {
      "cell_type": "markdown",
      "source": [
        "Онлайн-магазин:\n",
        "- Создайте модель для онлайн-магазина с классами Product, Order, Customer, и ShoppingCart.\n",
        "- Product включает информацию о цене, наличии на складе и категории товара.\n",
        "Order обрабатывает процесс покупки, включая расчет цены с учетом скидок и налогов.\n",
        "- Customer управляет информацией о пользователе и его истории заказов.\n",
        "- ShoppingCart позволяет добавлять, удалять и обновлять количество товаров перед оформлением заказа.\n"
      ],
      "metadata": {
        "id": "dd1mwKj_BxHa"
      }
    },
    {
      "cell_type": "code",
      "source": [
        "\n",
        "import random\n",
        "\n",
        "# category : [names]\n",
        "categories = {'Vegetables':['apple', 'banana', 'carrot'],\n",
        "                  'Bread':['white bread', 'black bread', 'pita'],\n",
        "                  'Milk products':['milk', 'cheese', 'curd']\n",
        "                  }\n",
        "\n",
        "# name : id\n",
        "product_id = {'apple':1,\n",
        "              'banana':2,\n",
        "              'carrot':3,\n",
        "              'white bread':4,\n",
        "              'black bread':5,\n",
        "              'pita':6,\n",
        "              'milk':7,\n",
        "              'cheese':8,\n",
        "              'curd':9\n",
        "              }\n",
        "\n",
        "# id : [items, price]\n",
        "available_products = {1:[10, 250],\n",
        "                      2:[20, 200],\n",
        "                      3:[50, 130],\n",
        "                      4:[20, 50],\n",
        "                      5:[20, 50],\n",
        "                      6:[40, 30],\n",
        "                      7:[100, 70],\n",
        "                      8:[80, 250],\n",
        "                      9:[30, 100],\n",
        "                      }\n",
        "\n",
        "\n",
        "\n",
        "\n",
        "def add_product(name):\n",
        "    # Получаем id последнего элемента словаря, добавляем 1 для получение текущего id\n",
        "    curr_id = list(product_id.items())[-1][1] + 1\n",
        "    if name not in product_id.keys():\n",
        "        product_id[name] = curr_id\n",
        "        print(f\"{name} was added to the list. Id:{curr_id}\")\n",
        "    else:\n",
        "        print(f'{name} already exists, ')\n",
        "        print(f\"it's id:{product_id[name]}\")\n",
        "\n",
        "\n",
        "class Product:\n",
        "    def __init__(self, name):\n",
        "        self.name = name\n",
        "        self.cart = []\n",
        "        self.items, self.price, self.category = self.info()\n",
        "\n",
        "    def check_price(self):\n",
        "        print(\"Items left:\", self.items)\n",
        "        print(\"Current price:\", self.price)\n",
        "        print(self.category, \"category\")\n",
        "\n",
        "\n",
        "    def info(self):\n",
        "        if self.name not in product_id.keys():\n",
        "            print(\"Doesn't have this yet! \")\n",
        "\n",
        "        else:\n",
        "            id_ = product_id[self.name]\n",
        "            items = available_products[id_][0]\n",
        "            price = available_products[id_][1]\n",
        "\n",
        "            category = ''\n",
        "            for k, i in categories.items():\n",
        "                if self.name in i:\n",
        "                    category = k\n",
        "            if not category:\n",
        "                category = 'Other'\n",
        "            return items, price, category\n",
        "\n",
        "\n",
        "class ShoppingCart(Product):\n",
        "    def __init__(self, name, count):\n",
        "        super().__init__(name)\n",
        "        self.cart.append([self.name, float(f\"{self.price * count:.2f}\")]) if self.items >= count else print(\"Too much items! \")\n",
        "\n",
        "\n",
        "class Order(ShoppingCart):\n",
        "    def __init__(self, name):\n",
        "        count = float(input(\"How much do you need? (kg) : \"))\n",
        "        super().__init__(name, count)\n",
        "\n",
        "\n",
        "    def order(self):\n",
        "        total_price = 0\n",
        "        for item in self.cart:\n",
        "            total_price += item[1]\n",
        "            print(total_price)\n",
        "\n",
        "\n",
        "    def buy(self):\n",
        "        for name in self.cart:\n",
        "            Order(name[0])\n",
        "\n",
        "\n",
        "class Customer(ShoppingCart):\n",
        "    def __init__(self):\n",
        "        super().__init__(self, )\n",
        "\n",
        "\n",
        "apple = Order('apple')\n",
        "apple.order()\n",
        "apple.check_price()"
      ],
      "metadata": {
        "id": "wkCcv_K-Bwdv",
        "colab": {
          "base_uri": "https://localhost:8080/"
        },
        "outputId": "135327a5-ebbe-494e-8a10-b5d817543719"
      },
      "execution_count": 2,
      "outputs": [
        {
          "output_type": "stream",
          "name": "stdout",
          "text": [
            "How much do you need? (kg) : 1\n",
            "250.0\n",
            "Items left: 10\n",
            "Current price: 250\n",
            "Vegetables category\n"
          ]
        }
      ]
    },
    {
      "cell_type": "markdown",
      "source": [
        "# Задание 4"
      ],
      "metadata": {
        "id": "ih7iPlYfB7lL"
      }
    },
    {
      "cell_type": "markdown",
      "source": [
        "Симулятор космического корабля:\n",
        "- Создайте симулятор управления космическим кораблем с классами SpaceShip, CrewMember, и Mission.\n",
        "- SpaceShip имеет атрибуты для управления топливом, состоянием корпуса, и текущей скоростью.\n",
        "- CrewMember контролирует здоровье, навыки, и роли в команде (например, пилот, инженер).\n",
        "- Mission определяет цели, ресурсы, и возможные события (например, аварии, встречи с астероидами)."
      ],
      "metadata": {
        "id": "zLwqVCbpCBvc"
      }
    },
    {
      "cell_type": "code",
      "source": [],
      "metadata": {
        "id": "4NyrOOy8B9ED"
      },
      "execution_count": null,
      "outputs": []
    },
    {
      "cell_type": "markdown",
      "source": [
        "# Дополнительно:"
      ],
      "metadata": {
        "id": "F7mRVsZjCXk0"
      }
    },
    {
      "cell_type": "markdown",
      "source": [
        "**Описание:** создайте консольную версию игры крестики-нолики, используя классы"
      ],
      "metadata": {
        "id": "X4Lkf86UCc1h"
      }
    },
    {
      "cell_type": "code",
      "source": [],
      "metadata": {
        "id": "x9OxpNsyCcUo"
      },
      "execution_count": null,
      "outputs": []
    }
  ]
}