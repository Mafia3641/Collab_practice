{
  "nbformat": 4,
  "nbformat_minor": 0,
  "metadata": {
    "colab": {
      "provenance": [],
      "include_colab_link": true
    },
    "kernelspec": {
      "name": "python3",
      "display_name": "Python 3"
    },
    "language_info": {
      "name": "python"
    }
  },
  "cells": [
    {
      "cell_type": "markdown",
      "metadata": {
        "id": "view-in-github",
        "colab_type": "text"
      },
      "source": [
        "<a href=\"https://colab.research.google.com/github/Mafia3641/Collab_practice/blob/main/Practice_0_5_0.ipynb\" target=\"_parent\"><img src=\"https://colab.research.google.com/assets/colab-badge.svg\" alt=\"Open In Colab\"/></a>"
      ]
    },
    {
      "cell_type": "markdown",
      "source": [
        "ФИО:"
      ],
      "metadata": {
        "id": "Bu5gIJfHNPHw"
      }
    },
    {
      "cell_type": "code",
      "execution_count": null,
      "metadata": {
        "id": "CbHI8c7cM9Eg"
      },
      "outputs": [],
      "source": [
        "*************"
      ]
    },
    {
      "cell_type": "markdown",
      "source": [
        "# **Задание 1**"
      ],
      "metadata": {
        "id": "VrNrBpmocGRd"
      }
    },
    {
      "cell_type": "markdown",
      "source": [
        "\n",
        "\n",
        "Дан словарь, содержащий имена и возраст людей, напишите программу выводящую возраст человека по имени\n",
        "\n",
        "Дано:\n",
        "\n",
        "```\n",
        "{\"Alice\": 25, \"Bob\": 30, \"Charlie\": 35}\n",
        "```\n",
        "\n",
        "Вввод:\n",
        "\n",
        "\n",
        "```\n",
        "Alice\n",
        "```\n",
        "\n",
        "Вывод:\n",
        "\n",
        "\n",
        "```\n",
        "Alice 25\n",
        "```\n"
      ],
      "metadata": {
        "id": "XhV1bnm1bR2h"
      }
    },
    {
      "cell_type": "code",
      "source": [
        "dict_n = {\"Alice\": 25, \"Bob\": 30, \"Charlie\": 35}\n",
        "name = input()\n",
        "\n",
        "print(name, dict_n[name])\n"
      ],
      "metadata": {
        "id": "PElJj6DvsgjD",
        "colab": {
          "base_uri": "https://localhost:8080/"
        },
        "outputId": "06335a2f-9a7e-4e75-beeb-666fdd1e557c"
      },
      "execution_count": null,
      "outputs": [
        {
          "output_type": "stream",
          "name": "stdout",
          "text": [
            "Alice\n",
            "Alice 25\n"
          ]
        }
      ]
    },
    {
      "cell_type": "markdown",
      "source": [
        "# **Задание 2**\n"
      ],
      "metadata": {
        "id": "lpjJz-_YcJ-t"
      }
    },
    {
      "cell_type": "markdown",
      "source": [
        "\n",
        "\n",
        "Дан список, состоящий из целых чисел, необходимо написать функцию считающую сумму всех положительных четных чисел списка\n",
        "\n",
        "Ввод:\n",
        "\n",
        "```\n",
        "1, 2, 3, 4, 5, 6, 7, 8, 9\n",
        "```\n",
        "\n",
        "Вывод:\n",
        "\n",
        "\n",
        "```\n",
        "20\n",
        "```\n",
        "\n",
        "***Запрещено:***\n",
        "\n",
        "*   Использование готовых функций для суммирования чисел\n"
      ],
      "metadata": {
        "id": "tMEsAB4rUiWW"
      }
    },
    {
      "cell_type": "code",
      "source": [
        "list_n = [1, 2, 3, 4, 5, 6, 7, 8, 9]\n",
        "s = 0\n",
        "\n",
        "for i in list_n:\n",
        "    if i%2 == 0:\n",
        "      s += i\n",
        "\n",
        "print(s)"
      ],
      "metadata": {
        "id": "wDNUFLeqNQS_",
        "colab": {
          "base_uri": "https://localhost:8080/"
        },
        "outputId": "16e6ee02-4fe5-4e29-d8a0-32d052a3510b"
      },
      "execution_count": null,
      "outputs": [
        {
          "output_type": "stream",
          "name": "stdout",
          "text": [
            "20\n"
          ]
        }
      ]
    },
    {
      "cell_type": "markdown",
      "source": [
        "# **Задание 3**"
      ],
      "metadata": {
        "id": "WT_v-vz1dUZJ"
      }
    },
    {
      "cell_type": "markdown",
      "source": [
        "Дан словарь, содержащий название фрукта и его цвет, выведите список всех желтых фруктов\n",
        "\n",
        "\n",
        "Дано:\n",
        "\n",
        "```\n",
        "fruits_and_colors = {\n",
        "    \"apple\": \"red\",\n",
        "    \"banana\": \"yellow\",\n",
        "    \"mango\": \"yellow\",\n",
        "    \"orange\": \"orange\",\n",
        "    \"lemon\": \"yellow\",\n",
        "    \"grape\": \"purple\"\n",
        "}\n",
        "```\n",
        "\n",
        "Вывод:\n",
        "\n",
        "\n",
        "```\n",
        "Yellow fruits:\n",
        "banana\n",
        "lemon\n",
        "mango\n",
        "```\n",
        "\n"
      ],
      "metadata": {
        "id": "ZI5Xeh2DdXgF"
      }
    },
    {
      "cell_type": "code",
      "source": [
        "fruits_and_colors = {\n",
        "    \"apple\": \"red\",\n",
        "    \"banana\": \"yellow\",\n",
        "    \"mango\": \"yellow\",\n",
        "    \"orange\": \"orange\",\n",
        "    \"lemon\": \"yellow\",\n",
        "    \"grape\": \"purple\"\n",
        "}\n",
        "\n",
        "print(\"Yellow fruits\")\n",
        "\n",
        "for k, v in fruits_and_colors.items():\n",
        "    if v == 'yellow':\n",
        "        print(k)\n"
      ],
      "metadata": {
        "id": "aNzFTkhKdkTG",
        "colab": {
          "base_uri": "https://localhost:8080/"
        },
        "outputId": "c5ec3e45-44fe-473e-c476-6d22258f6e4f"
      },
      "execution_count": null,
      "outputs": [
        {
          "output_type": "stream",
          "name": "stdout",
          "text": [
            "Yellow fruits\n",
            "banana\n",
            "mango\n",
            "lemon\n"
          ]
        }
      ]
    },
    {
      "cell_type": "markdown",
      "source": [
        "# **Задание 4**\n"
      ],
      "metadata": {
        "id": "iHtMGt2icM7w"
      }
    },
    {
      "cell_type": "markdown",
      "source": [
        "\n",
        "\n",
        "Дан словарь, необходимо написать функцию меняющую ключ и значение местами\n",
        "\n",
        "Дано:\n",
        "\n",
        "\n",
        "```\n",
        "{\"a\": 1, \"b\": 2, \"c\": 3}\n",
        "```\n",
        "\n",
        "Вывод:\n",
        "\n",
        "```\n",
        "{1: 'a', 2: 'b', 3: 'c'}\n",
        "```\n",
        "\n"
      ],
      "metadata": {
        "id": "rS3THsnBQ_EB"
      }
    },
    {
      "cell_type": "code",
      "source": [
        "dict_n = {\"a\": 1, \"b\": 2, \"c\": 3}\n",
        "\n",
        "for k, v in dict_n.items():\n",
        "    del dict_n[k]\n",
        "    dict_n[v]=k\n",
        "\n",
        "print(dict_n)\n"
      ],
      "metadata": {
        "id": "MNRusyLDcQ59",
        "colab": {
          "base_uri": "https://localhost:8080/"
        },
        "outputId": "939d874f-5220-456a-ccc6-07aec6265419"
      },
      "execution_count": null,
      "outputs": [
        {
          "output_type": "stream",
          "name": "stdout",
          "text": [
            "{1: 'a', 2: 'b', 3: 'c'}\n"
          ]
        }
      ]
    },
    {
      "cell_type": "markdown",
      "source": [
        "# **Задание 5**"
      ],
      "metadata": {
        "id": "x6ff5nd0cUxD"
      }
    },
    {
      "cell_type": "markdown",
      "source": [
        "Дан список слов, неограниченной длинны, сформируйте словарь, где в качестве ключа будет слово, а в качестве значения количество слов\n",
        "\n",
        "**Критерии**\n",
        "\n",
        "\n",
        "*   Словарь необходимо отсортировать по убыванию количества элементов в списке.\n",
        "*   Подсчет элементов должен быть реализован в отдельной функции\n",
        "*   Сортировка пары `ключ:значение` должна быть реализована также в виде отдельной функции\n",
        "\n",
        "\n",
        "\n",
        "\n",
        "Дано:\n",
        "```\n",
        "['apple','banana','orange','apple','apple','banana']\n",
        "```\n",
        "\n",
        "\n",
        "Вывод:\n",
        "```\n",
        "{'apple':3, 'banana': 2, 'orange': 1}\n",
        "```\n",
        "\n",
        "***Запрещено:***\n",
        "\n",
        "*   Использование готовых функций для сортировки\n",
        "*   Использование готовых функций для подсчета элементов\n",
        "\n"
      ],
      "metadata": {
        "id": "ypQNHOG4NQz3"
      }
    },
    {
      "cell_type": "code",
      "source": [
        "def count_w(word):\n",
        "    c = 0\n",
        "    for w in list_w:\n",
        "        if w == word:\n",
        "            c += 1\n",
        "    return c\n",
        "\n",
        "\n",
        "def sort_w(dict_):\n",
        "    max_v = 0\n",
        "    for k, v in dict_.items():\n",
        "        if v < max_v:\n",
        "            del dict_[k]\n",
        "            dict_[k] = v\n",
        "            max_v = v\n",
        "    return dict_\n",
        "\n",
        "\n",
        "list_w = ['apple', 'banana', 'orange', 'apple', 'apple', 'banana']\n",
        "set_w = list(set(list_w))\n",
        "\n",
        "dict_w = {}\n",
        "\n",
        "for i in set_w:\n",
        "    dict_w[i] = count_w(i)\n",
        "\n",
        "dict_w = sort_w(dict_w)\n",
        "dict_w = dict(reversed(dict_w.items()))\n",
        "\n",
        "print(dict_w)"
      ],
      "metadata": {
        "id": "J10PjdVQUbyq",
        "colab": {
          "base_uri": "https://localhost:8080/"
        },
        "outputId": "5dee84bc-4ff0-4665-8f13-f1c8cd2de45a"
      },
      "execution_count": null,
      "outputs": [
        {
          "output_type": "stream",
          "name": "stdout",
          "text": [
            "{'banana': 2, 'apple': 3, 'orange': 1}\n"
          ]
        }
      ]
    },
    {
      "cell_type": "markdown",
      "source": [
        "# **Задание 6**"
      ],
      "metadata": {
        "id": "d7fDUr2WcY_G"
      }
    },
    {
      "cell_type": "markdown",
      "source": [
        "Дан словарь, содержащий информацию о людях, необходимо:\n",
        "\n",
        "\n",
        "\n",
        "*   Вывести всех людей старше 30 лет\n",
        "*   Вывести список городов и количество людей из словаря проживающих в них\n",
        "*   Вывести список профессий и список людей для каждой профессии\n",
        "\n",
        "**Критерии**\n",
        "\n",
        "Каждый из пунктов необходимо реализовать в виде функции\n",
        "\n"
      ],
      "metadata": {
        "id": "m11qdVhSWBi7"
      }
    },
    {
      "cell_type": "code",
      "source": [
        "people_info = {\n",
        "    \"Alice\": {\"age\": 25, \"city\": \"New York\", \"occupation\": \"Engineer\"},\n",
        "    \"Bob\": {\"age\": 30, \"city\": \"Los Angeles\", \"occupation\": \"Designer\"},\n",
        "    \"Charlie\": {\"age\": 35, \"city\": \"Chicago\", \"occupation\": \"Teacher\"},\n",
        "    \"Diana\": {\"age\": 28, \"city\": \"Miami\", \"occupation\": \"Doctor\"},\n",
        "    \"Ethan\": {\"age\": 40, \"city\": \"Seattle\", \"occupation\": \"Chef\"},\n",
        "    \"Frank\": {\"age\": 32, \"city\": \"Atlanta\", \"occupation\": \"Lawyer\"},\n",
        "    \"Gabriella\": {\"age\": 29, \"city\": \"San Francisco\", \"occupation\": \"Software Engineer\"},\n",
        "    \"Harrison\": {\"age\": 38, \"city\": \"Denver\", \"occupation\": \"Architect\"},\n",
        "    \"Isabella\": {\"age\": 26, \"city\": \"Washington D.C.\", \"occupation\": \"Journalist\"},\n",
        "    \"Julian\": {\"age\": 42, \"city\": \"Miami\", \"occupation\": \"Musician\"},\n",
        "    \"Kate\": {\"age\": 31, \"city\": \"Philadelphia\", \"occupation\": \"Nurse\"},\n",
        "    \"Lucas\": {\"age\": 36, \"city\": \"Nashville\", \"occupation\": \"Businessman\"},\n",
        "    \"Mia\": {\"age\": 27, \"city\": \"Atlanta\", \"occupation\": \"Artist\"},\n",
        "    \"Natalie\": {\"age\": 39, \"city\": \"Portland\", \"occupation\": \"Writer\"},\n",
        "    \"Oliver\": {\"age\": 44, \"city\": \"Minneapolis\", \"occupation\": \"Professor\"},\n",
        "    \"Penelope\": {\"age\": 33, \"city\": \"San Diego\", \"occupation\": \"Marketing Manager\"},\n",
        "    \"Quincy\": {\"age\": 41, \"city\": \"Nashville\", \"occupation\": \"Singer\"},\n",
        "    \"Rachel\": {\"age\": 34, \"city\": \"Cleveland\", \"occupation\": \"Teacher\"},\n",
        "    \"Sophia\": {\"age\": 29, \"city\": \"Nashville\", \"occupation\": \"Engineer\"},\n",
        "    \"Tessa\": {\"age\": 37, \"city\": \"Miami\", \"occupation\": \"Lawyer\"}\n",
        "}"
      ],
      "metadata": {
        "id": "lSNtB39OWtFl"
      },
      "execution_count": null,
      "outputs": []
    },
    {
      "cell_type": "code",
      "source": [
        "people_info = {\n",
        "    \"Alice\": {\"age\": 25, \"city\": \"New York\", \"occupation\": \"Engineer\"},\n",
        "    \"Bob\": {\"age\": 30, \"city\": \"Los Angeles\", \"occupation\": \"Designer\"},\n",
        "    \"Charlie\": {\"age\": 35, \"city\": \"Chicago\", \"occupation\": \"Teacher\"},\n",
        "    \"Diana\": {\"age\": 28, \"city\": \"Miami\", \"occupation\": \"Doctor\"},\n",
        "    \"Ethan\": {\"age\": 40, \"city\": \"Seattle\", \"occupation\": \"Chef\"},\n",
        "    \"Frank\": {\"age\": 32, \"city\": \"Atlanta\", \"occupation\": \"Lawyer\"},\n",
        "    \"Gabriella\": {\"age\": 29, \"city\": \"San Francisco\", \"occupation\": \"Software Engineer\"},\n",
        "    \"Harrison\": {\"age\": 38, \"city\": \"Denver\", \"occupation\": \"Architect\"},\n",
        "    \"Isabella\": {\"age\": 26, \"city\": \"Washington D.C.\", \"occupation\": \"Journalist\"},\n",
        "    \"Julian\": {\"age\": 42, \"city\": \"Miami\", \"occupation\": \"Musician\"},\n",
        "    \"Kate\": {\"age\": 31, \"city\": \"Philadelphia\", \"occupation\": \"Nurse\"},\n",
        "    \"Lucas\": {\"age\": 36, \"city\": \"Nashville\", \"occupation\": \"Businessman\"},\n",
        "    \"Mia\": {\"age\": 27, \"city\": \"Atlanta\", \"occupation\": \"Artist\"},\n",
        "    \"Natalie\": {\"age\": 39, \"city\": \"Portland\", \"occupation\": \"Writer\"},\n",
        "    \"Oliver\": {\"age\": 44, \"city\": \"Minneapolis\", \"occupation\": \"Professor\"},\n",
        "    \"Penelope\": {\"age\": 33, \"city\": \"San Diego\", \"occupation\": \"Marketing Manager\"},\n",
        "    \"Quincy\": {\"age\": 41, \"city\": \"Nashville\", \"occupation\": \"Singer\"},\n",
        "    \"Rachel\": {\"age\": 34, \"city\": \"Cleveland\", \"occupation\": \"Teacher\"},\n",
        "    \"Sophia\": {\"age\": 29, \"city\": \"Nashville\", \"occupation\": \"Engineer\"},\n",
        "    \"Tessa\": {\"age\": 37, \"city\": \"Miami\", \"occupation\": \"Lawyer\"}\n",
        "}\n",
        "\n",
        "\n",
        "#Получаем информацию о человеке по его имени в качестве ключа\n",
        "def get_info(name):\n",
        "    for k, v in people_info.items():\n",
        "        for i in range(len(people_info)):\n",
        "            if name == k:\n",
        "                return v\n",
        "\n",
        "\n",
        "def older_30(dict_=people_info):\n",
        "    for k, v in dict_.items():\n",
        "        if v['age'] >= 30:\n",
        "            print(k)\n",
        "\n",
        "\n",
        "def cities(dict_ = people_info):\n",
        "    city = []\n",
        "    for name in people_info.keys():\n",
        "        city.append(people_info[name]['city'])\n",
        "    for i in list(set(city)):\n",
        "        c = 0\n",
        "        for k, v in dict_.items():\n",
        "            if v['city'] == i:\n",
        "                c += 1\n",
        "        print(i, c)\n",
        "\n",
        "\n",
        "def profession(dict_ = people_info):\n",
        "    professions = []\n",
        "    for name in people_info.keys():\n",
        "        professions.append(people_info[name]['occupation'])\n",
        "    for i in list(set(professions)):\n",
        "        pr = []\n",
        "        for k, v in dict_.items():\n",
        "            if v[\"occupation\"] == i:\n",
        "                pr.append(k)\n",
        "        print(i, pr)\n",
        "\n",
        "\n",
        "print(\"\\n   List of people age 30+: \")\n",
        "older_30()\n",
        "\n",
        "print(\"\\n   List of cities and its population: \")\n",
        "cities()\n",
        "\n",
        "print(\"\\n   List of professions and specialists for each of them: \")\n",
        "profession()\n"
      ],
      "metadata": {
        "id": "qcLO5eQwXkNK",
        "colab": {
          "base_uri": "https://localhost:8080/"
        },
        "outputId": "fe3200b3-1936-4950-adf2-89e5e722748b"
      },
      "execution_count": null,
      "outputs": [
        {
          "output_type": "stream",
          "name": "stdout",
          "text": [
            "\n",
            "   List of people age 30+: \n",
            "Bob\n",
            "Charlie\n",
            "Ethan\n",
            "Frank\n",
            "Harrison\n",
            "Julian\n",
            "Kate\n",
            "Lucas\n",
            "Natalie\n",
            "Oliver\n",
            "Penelope\n",
            "Quincy\n",
            "Rachel\n",
            "Tessa\n",
            "\n",
            "   List of cities and its population: \n",
            "Washington D.C. 1\n",
            "Denver 1\n",
            "Portland 1\n",
            "Minneapolis 1\n",
            "Miami 3\n",
            "Cleveland 1\n",
            "Philadelphia 1\n",
            "San Diego 1\n",
            "Nashville 3\n",
            "New York 1\n",
            "Seattle 1\n",
            "Atlanta 2\n",
            "Chicago 1\n",
            "San Francisco 1\n",
            "Los Angeles 1\n",
            "\n",
            "   List of professions and specialists for each of them: \n",
            "Architect ['Harrison']\n",
            "Businessman ['Lucas']\n",
            "Nurse ['Kate']\n",
            "Singer ['Quincy']\n",
            "Software Engineer ['Gabriella']\n",
            "Designer ['Bob']\n",
            "Journalist ['Isabella']\n",
            "Musician ['Julian']\n",
            "Professor ['Oliver']\n",
            "Lawyer ['Frank', 'Tessa']\n",
            "Artist ['Mia']\n",
            "Marketing Manager ['Penelope']\n",
            "Doctor ['Diana']\n",
            "Chef ['Ethan']\n",
            "Engineer ['Alice', 'Sophia']\n",
            "Writer ['Natalie']\n",
            "Teacher ['Charlie', 'Rachel']\n"
          ]
        }
      ]
    },
    {
      "cell_type": "markdown",
      "source": [
        "# **Задание 7**"
      ],
      "metadata": {
        "id": "27IuB2YScezw"
      }
    },
    {
      "cell_type": "markdown",
      "source": [
        "Задание: Разработка системы отзывов о предметах\n",
        "\n",
        "Описание: Создать программу на Python для хранения и управления отзывами о предметах учебного курса. Программа должна позволять пользователям добавлять, просматривать и удалять отзывы, а также вычислять средний балл по заданному предмету.\n",
        "\n",
        "**Функционал:**\n",
        "\n",
        "*   Добавление отзыва и оценки:\n",
        "   *   Пользователь может ввести название предмета, оценку (от 1 до 5) и текст отзыва.\n",
        "   *   Отзывы должны храниться в структуре данных (например, словаре), где ключом будет название предмета, а значением - список отзывов (каждый отзыв может хранить оценку и комментарий).\n",
        "*   Просмотр отзывов и оценок:\n",
        "   *   Пользователь может запросить отзывы для указанного предмета.\n",
        "   *   Если для указанного предмета есть отзывы, программа должна отобразить список всех отзывов и соответствующих оценок.\n",
        "*   Удаление отзыва:\n",
        "   *   Пользователь может удалить отзыв по индексу. Необходимо заранее уведомить пользователя о том, какие отзывы доступны для удаления.\n",
        "   *   Программа должна обработать ситуацию, когда индекс введен неправильно.\n",
        "*   Вычисление среднего балла по предмету:\n",
        "   *   Пользователь может ввести название предмета, и программа должна вычислить и вывести средний балл по всем отзывам для этого предмета.\n",
        "   *   Если отзывов нет, программа должна сообщить об этом.\n",
        "\n",
        "\n",
        "**Критерии:**\n",
        "\n",
        "*   Код должен быть оформлен в виде функций\n",
        "*   Необходимо обрабатывать неправильный ввод пользователя\n",
        "*   Должны быть комментарии к функциям\n",
        "*   Присутсвует весь дополнительный функционал\n",
        "\n",
        "\n",
        "\n",
        "**Опционально:**\n",
        "\n",
        "Предлагаю вам добавить свои критерии оценки или вопросы, на которые должен ответить студент, чтобы оценить пару\n",
        "\n",
        "\n"
      ],
      "metadata": {
        "id": "Fd95-S9cYhct"
      }
    },
    {
      "cell_type": "code",
      "source": [
        "\n",
        "\"\"\"\n",
        "Создание отзыва о предмете\n",
        "Ввод:   ( <ФИО>  <Название пары>  <Оценка (1-5)>  <Отзыв> )\n",
        "Вывод:  ( <> )\n",
        "\"\"\"\n",
        "def add_mark(name, lesson, mark, feedback):\n",
        "    try:\n",
        "        if lesson == 'physics':\n",
        "            physics[name] = [mark, feedback]\n",
        "            print(physics)\n",
        "        elif lesson == 'math':\n",
        "            math[name] = [mark, feedback]\n",
        "            print(math)\n",
        "        elif lesson == 'nat_lang':\n",
        "            nat_lang[name] = [mark, feedback]\n",
        "            print(nat_lang)\n",
        "    except:\n",
        "        print(\"Wrong interrupt!\")\n",
        "\n",
        "\n",
        "\n",
        "\"\"\"\n",
        "Просмотр отзывов и оценок пары\n",
        "Ввод:   ( <Название пары> )\n",
        "Вывод:  ( <\n",
        "\"\"\"\n",
        "def check_mark(lesson):\n",
        "    if lesson not in lessons_list:\n",
        "        print(\"Wrong lesson name! \")\n",
        "        return\n",
        "    lesson = lessons_list[lesson]\n",
        "    for k, v in lesson.items():\n",
        "        print(v[1])\n",
        "\n",
        "\n",
        "def del_mark(lesson, index):\n",
        "    if lesson not in lessons_list:\n",
        "        print(\"Wrong lesson name! \")\n",
        "        return\n",
        "\n",
        "    lesson = lessons_list[lesson]\n",
        "    c = 0\n",
        "\n",
        "    for k, v in lesson.items():\n",
        "        if c == index:\n",
        "            lesson[k] = [v[0], '']\n",
        "\n",
        "        else:\n",
        "            c+=1\n",
        "\n",
        "    return lesson\n",
        "\n",
        "\n",
        "\n",
        "def avg_mark(lesson):\n",
        "    marks_list = []\n",
        "    c = 0\n",
        "\n",
        "    for mark in lessons_list[lesson].values():\n",
        "        marks_list.append(mark[0])\n",
        "        c += 1\n",
        "\n",
        "    print(sum(marks_list)/c)\n",
        "\n",
        "\n",
        "\n",
        "\n",
        "physics = {}\n",
        "\n",
        "math = {}\n",
        "\n",
        "nat_lang = {}\n",
        "\n",
        "lessons_list = {'physics': physics,\n",
        "                'math': math,\n",
        "                'nat_lang': nat_lang}\n",
        "\n",
        "add_mark(\"Mark\", \"physics\", 3, 'awful lesson!')\n",
        "add_mark(\"Lisa\", \"physics\", 4, 'awful lesson!')\n",
        "\n",
        "\n",
        "avg_mark('physics')\n",
        "\n",
        "\n",
        "del_mark('physics', 1)"
      ],
      "metadata": {
        "id": "kzucJrCUa0o7",
        "colab": {
          "base_uri": "https://localhost:8080/"
        },
        "outputId": "7d02de02-e963-4e46-e126-9fd187abca70"
      },
      "execution_count": null,
      "outputs": [
        {
          "output_type": "stream",
          "name": "stdout",
          "text": [
            "{'Mark': [3, 'awful lesson!']}\n",
            "{'Mark': [3, 'awful lesson!'], 'Lisa': [4, 'awful lesson!']}\n",
            "3.5\n"
          ]
        },
        {
          "output_type": "execute_result",
          "data": {
            "text/plain": [
              "{'Mark': [3, 'awful lesson!'], 'Lisa': [4, '']}"
            ]
          },
          "metadata": {},
          "execution_count": 39
        }
      ]
    }
  ]
}