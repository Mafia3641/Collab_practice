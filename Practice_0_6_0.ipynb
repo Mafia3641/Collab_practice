{
  "nbformat": 4,
  "nbformat_minor": 0,
  "metadata": {
    "colab": {
      "provenance": [],
      "include_colab_link": true
    },
    "kernelspec": {
      "name": "python3",
      "display_name": "Python 3"
    },
    "language_info": {
      "name": "python"
    }
  },
  "cells": [
    {
      "cell_type": "markdown",
      "metadata": {
        "id": "view-in-github",
        "colab_type": "text"
      },
      "source": [
        "<a href=\"https://colab.research.google.com/github/Mafia3641/Collab_practice/blob/main/Practice_0_6_0.ipynb\" target=\"_parent\"><img src=\"https://colab.research.google.com/assets/colab-badge.svg\" alt=\"Open In Colab\"/></a>"
      ]
    },
    {
      "cell_type": "markdown",
      "source": [
        "\n",
        "\n",
        "---\n",
        "\n"
      ],
      "metadata": {
        "id": "tKNG_RzWxG6g"
      }
    },
    {
      "cell_type": "markdown",
      "source": [
        "# **Дисклеймер**\n",
        "\n",
        "В данной практике будет введен дополнительный критерий: чистота и читаемость кода, а также соблюдение правил описанных в начале практики"
      ],
      "metadata": {
        "id": "cFcrKfclKWh0"
      }
    },
    {
      "cell_type": "markdown",
      "source": [
        "\n",
        "\n",
        "---\n",
        "\n"
      ],
      "metadata": {
        "id": "0SnE87X1xDlV"
      }
    },
    {
      "cell_type": "markdown",
      "source": [
        "# Задание 1\n",
        "\n",
        "**Задача:**\n",
        "\n",
        "Напишите функцию очищающий список от дубликтов\n",
        "\n",
        "\n",
        "*Запрещено:*\n",
        "\n",
        "*   Использовать set() или готовые функции очищающие список от дубликатов\n",
        "\n",
        "Вввод:\n",
        "\n",
        "```\n",
        "apple banana apple 1 3 4 4 5\n",
        "```\n",
        "\n",
        "\n",
        "Вывод:\n",
        "\n",
        "```\n",
        "apple banana 1 3 4 5\n",
        "```\n",
        "\n"
      ],
      "metadata": {
        "id": "VxawR9NubT_F"
      }
    },
    {
      "cell_type": "code",
      "source": [
        "words = 'apple banana apple 1 3 4 4 5'\n",
        "words_list = words.split()\n",
        "\n",
        "for w1 in words_list:\n",
        "    for w2 in words_list[1:]:\n",
        "        if w1 == w2:\n",
        "            ind = words_list[1:].index(w2)\n",
        "            print(words_list)\n",
        "            words_list.pop(ind+1)\n",
        "            print(words_list)\n"
      ],
      "metadata": {
        "id": "ml5gnbPXbeju"
      },
      "execution_count": null,
      "outputs": []
    },
    {
      "cell_type": "markdown",
      "source": [
        "# Задание 2\n",
        "\n",
        "**Задача:**\n",
        "\n",
        "Написать функцию для нахождения простых чисел в диапазоне\n",
        "\n",
        "Ввод:\n",
        "\n",
        "```\n",
        "10, 50\n",
        "```\n",
        "\n",
        "Вывод:\n",
        "\n",
        "```\n",
        "11, 13, 17, 19, 23, 29, 31, 37, 41, 43, 47\n",
        "```"
      ],
      "metadata": {
        "id": "y05x0eD0cVCC"
      }
    },
    {
      "cell_type": "code",
      "source": [
        "def is_common(num: int):\n",
        "    c = 0\n",
        "    for i in range(2, num):\n",
        "        if num % i == 0:\n",
        "            c += 1\n",
        "    if c == 0:\n",
        "        return num\n",
        "    return ''\n",
        "\n",
        "input_range = input(\"Enter range borders: \")\n",
        "input_range = input_range.split(\",\")\n",
        "nums_range = range(int(input_range[0]), int(input_range[1])+1)\n",
        "nums_str = ''\n",
        "for num in nums_range:\n",
        "    ans = is_common(num)\n",
        "    if ans != '':\n",
        "        nums_str += str(ans) + ' '\n",
        "print(nums_str)"
      ],
      "metadata": {
        "id": "XSMJnLgrc6Bf",
        "colab": {
          "base_uri": "https://localhost:8080/"
        },
        "outputId": "f59bee86-d04d-4345-9d71-99a4b717d53b"
      },
      "execution_count": null,
      "outputs": [
        {
          "output_type": "stream",
          "name": "stdout",
          "text": [
            "Enter range borders: 10,50\n",
            "11 13 17 19 23 29 31 37 41 43 47 \n"
          ]
        }
      ]
    },
    {
      "cell_type": "markdown",
      "source": [
        "# Задание 3\n",
        "\n",
        "Напишите функцию для объединения двух списков (список ключей и список значении) в словарь\n",
        "\n",
        "*Запрещено:*\n",
        "\n",
        "*   Использования готовых функции для объединения списков (пример: zip() )\n",
        "\n",
        "Дано:\n",
        "\n",
        "```\n",
        "keys = ['a', 'b', 'c', 'e' ]\n",
        "values = [1, 2, 3, 4]\n",
        "```\n",
        "\n",
        "Вывод:\n",
        "```\n",
        "{'a': 1, 'b': 2, 'c': 3, 'e': 4}\n",
        "```\n",
        "\n",
        "\n"
      ],
      "metadata": {
        "id": "vYM0LyxxdElN"
      }
    },
    {
      "cell_type": "code",
      "source": [
        "keys = ['a', 'b', 'c', 'e' ]\n",
        "values = [1, 2, 3, 4]\n",
        "dictionary = {}\n",
        "\n",
        "if len(keys) != len(values):\n",
        "    exit()\n",
        "\n",
        "for key in keys:\n",
        "    key_pos = keys.index(key)\n",
        "    dictionary[key] = values[key_pos]\n",
        "print(dictionary)"
      ],
      "metadata": {
        "id": "CRvhHTjCdvjS"
      },
      "execution_count": null,
      "outputs": []
    },
    {
      "cell_type": "markdown",
      "source": [
        "# Задание 4\n",
        "\n",
        "Напишите функцию(ии) для подсчета статистических параметров:\n",
        "*   Сумму\n",
        "*   Среднее арифметическое\n",
        "*   Медиану\n",
        "*   Моду\n",
        "\n",
        "\n",
        "*Запрещено:*\n",
        "\n",
        "*   sum()\n",
        "*   sorted()\n",
        "*   и других функции предоставляющих готовое решение задания\n",
        "\n",
        "Дано:\n",
        "\n",
        "```\n",
        "numbers = [1, 2, 2, 3, 4, 5, 6, 7, 8 ,9 ,10]\n",
        "\n",
        "```\n",
        "\n",
        "Вывод:\n",
        "```\n",
        "{'mean': 5.181818181818182, 'median': 5, 'mode': 2, 'sum': 57}\n",
        "```\n"
      ],
      "metadata": {
        "id": "L_w8H8i-fQcP"
      }
    },
    {
      "cell_type": "code",
      "source": [
        "def avg(nums_list):\n",
        "    mean = 0\n",
        "    for num in nums_list:\n",
        "        mean += num\n",
        "    return (mean/len(nums_list))\n",
        "\n",
        "\n",
        "def med(nums_list):\n",
        "    avg_num = (nums_list[0] + nums_list[-1])/2\n",
        "    avg_num = int(avg_num)\n",
        "    return avg_num\n",
        "\n",
        "\n",
        "def mode(nums_list):\n",
        "    max_c = 0\n",
        "    mostly_used_num = 0\n",
        "    for num in nums_list:\n",
        "        c = 0\n",
        "        curr_num = num\n",
        "        for num1 in nums_list[1:]:\n",
        "            if num == num1:\n",
        "                c += 1\n",
        "        if max_c < c:\n",
        "            max_c = c\n",
        "            mostly_used_num = curr_num\n",
        "    return mostly_used_num\n",
        "\n",
        "\n",
        "def summa(nums_list):\n",
        "    s = 0\n",
        "    for num in nums_list:\n",
        "        s += num\n",
        "\n",
        "    return s\n",
        "\n",
        "\n",
        "numbers = [1, 2, 2, 3, 4, 5, 6, 7, 8, 9, 10]\n",
        "calculated_dict = {'mean': avg(numbers), 'median': med(numbers), 'mode': mode(numbers), 'sum': summa(numbers)}\n",
        "\n",
        "print(calculated_dict)"
      ],
      "metadata": {
        "id": "dW6jW_rjfuba"
      },
      "execution_count": null,
      "outputs": []
    },
    {
      "cell_type": "markdown",
      "source": [
        "# Задание 5\n",
        "\n",
        "На ввод поступает строка символов. Строка состоит из слов, которые отделены друг от друга пробелами. Необходимо вывести самое длинное слово и его порядковый номер.\n",
        "\n",
        "*Запрещено:*\n",
        "\n",
        "*   len()\n",
        "\n",
        "Дано:\n",
        "\n",
        "```\n",
        "Страдание и боль всегда обязательны для широкого сознания и глубокого сердца.\n",
        "\n",
        "```\n",
        "\n",
        "Вывод:\n",
        "```\n",
        "Самое длинное слово с номером 5: обязательны\n",
        "```"
      ],
      "metadata": {
        "id": "hZW0NZ7SgTcp"
      }
    },
    {
      "cell_type": "code",
      "source": [
        "def max_word(words_list):\n",
        "    max_c = 0\n",
        "    top_word = ''\n",
        "    for word in words_list:\n",
        "        c = 0\n",
        "        for letter in word:\n",
        "            c += 1\n",
        "        if max_c < c:\n",
        "            max_c = c\n",
        "            top_word = word\n",
        "    return top_word\n",
        "\n",
        "\n",
        "def word_index(word):\n",
        "    ind = words_list.index(word)\n",
        "    return (ind+1)\n",
        "\n",
        "\n",
        "string = 'Страдание и боль всегда обязательны для широкого сознания и глубокого сердца.'\n",
        "string = string.rstrip('.')\n",
        "words_list = string.split()\n",
        "\n",
        "most_used_word = max_word(words_list)\n",
        "print(f'Самое длинное слово с номером {word_index(most_used_word)}: ', max_word(words_list))"
      ],
      "metadata": {
        "id": "rC5DpHHLsDYp",
        "colab": {
          "base_uri": "https://localhost:8080/"
        },
        "outputId": "06b6903f-04c2-492d-ef5e-adf628dc0e43"
      },
      "execution_count": null,
      "outputs": [
        {
          "output_type": "stream",
          "name": "stdout",
          "text": [
            "обязательны\n"
          ]
        }
      ]
    },
    {
      "cell_type": "markdown",
      "source": [
        "# Задание 6\n",
        "\n",
        "Напишите программу, для управления оценками студентов, со следующими функциями:\n",
        "\n",
        "* Добавление информации о студенте и его оценках.\n",
        "* Подсчет среднего балла студента.\n",
        "* Получение списка всех студентов с их средними баллами.\n",
        "* Поиск студента по имени и вывод его оценок и среднего балла.\n",
        "\n",
        "\n",
        "\n"
      ],
      "metadata": {
        "id": "k5BzJW5ZeaQN"
      }
    },
    {
      "cell_type": "code",
      "source": [
        "def create_profile(name, second_name, mark_list):\n",
        "    students[f'{name} {second_name}'] = mark_list\n",
        "\n",
        "\n",
        "def avg_mark(name, second_name):\n",
        "    key = name + ' ' + second_name\n",
        "\n",
        "    try:\n",
        "        avg_m = sum(students[key])/len(students[key])\n",
        "        return avg_m\n",
        "    except:\n",
        "        print(\"Wrong interrupt! \")\n",
        "        return\n",
        "\n",
        "\n",
        "def get_all_avg():\n",
        "    for k, v in students.items():\n",
        "        print(f\"Average mark for student {k} is {(sum(v)/len(v)):.2f}\")\n",
        "\n",
        "    return ''\n",
        "\n",
        "\n",
        "def find_student(name, surname):\n",
        "    key = name + ' ' + surname\n",
        "\n",
        "    try:\n",
        "        print(f\"Found: {list(map(int, students[key]))}, average mark is {avg_mark(name, surname)}\")\n",
        "        return ''\n",
        "    except:\n",
        "        print(\"Wrong interrupt!\")\n",
        "\n",
        "\n",
        "students = {}\n",
        "print('What do you need?')\n",
        "print('1: Add new profile')\n",
        "print('2: Get average mark for student')\n",
        "print('3: Get all students marks and average marks')\n",
        "print('4: Get mark and average marks for student')\n",
        "\n",
        "request = input('')\n",
        "\n",
        "\n",
        "\n",
        "\n",
        "\n",
        "if request == '1':\n",
        "    name = input(\"Name: \").lower()\n",
        "    surname = input(\"Surname: \").lower()\n",
        "    if name + ' ' + surname in students.keys():\n",
        "        print(\"Name already exists! \")\n",
        "        exit()\n",
        "    marks = input(\"Marks (sep by ' '): \").split()\n",
        "    marks = list(map(int, marks))\n",
        "    create_profile(name, surname, marks)\n",
        "elif request == '2':\n",
        "    name = input(\"Name: \").lower()\n",
        "    surname = input(\"Surname: \").lower()\n",
        "    if name + ' ' + surname not in students.keys():\n",
        "        print(\"Does not exist! \")\n",
        "        exit()\n",
        "    print(f'Average mark for this student is: {avg_mark(name, surname)}')\n",
        "elif request == '3':\n",
        "    get_all_avg()\n",
        "elif request == '4':\n",
        "    name = input(\"Name: \").lower()\n",
        "    surname = input(\"Surname: \").lower()\n",
        "    if name + ' ' + surname not in students.keys():\n",
        "        print(\"Name does not exist! \")\n",
        "        exit()\n",
        "    find_student(name, surname)"
      ],
      "metadata": {
        "id": "cvhlltVbdyoL"
      },
      "execution_count": null,
      "outputs": []
    },
    {
      "cell_type": "markdown",
      "source": [
        "# Задание 7\n",
        "\n",
        "\n",
        "**Задача:**\n",
        "\n",
        "Создайте приложение-викторину с командной строкой, которое задает пользователям вопросы по различным темам и отслеживает их результаты.\n",
        "\n",
        "Ключевые особенности:\n",
        "\n",
        "*   Хранение данных о вопросах и ответах на них, а также баллов за каждый вопрос\n",
        "*   Реализуйте функцию для представления вопросов, принятия ответов пользователей и предоставления обратной связи о том, являются ли ответы правильными или неправильными.\n",
        "*  После завершения викторины отобразите общий балл пользователя из числа ответов на вопросы.\n",
        "*  Реализуйте функцию добавления нового вопроса\n",
        "*  Реализуйте функцию перемешивания вопросов, для отображения случайного вопроса\n"
      ],
      "metadata": {
        "id": "iQ8Z-7PYgu1_"
      }
    },
    {
      "cell_type": "code",
      "source": [
        "def get_question(number):\n",
        "    key = number\n",
        "    for k, v in questions_list.items():\n",
        "        if k == key:\n",
        "            del questions_list[k]\n",
        "            return v.split(\"/\")\n",
        "    return 0\n",
        "\n",
        "\n",
        "def check_answer(users_answer, question_number, current_mark):\n",
        "    key = question_number\n",
        "    c = current_mark\n",
        "    for k,v in correct_answers.items():\n",
        "        if k == key:\n",
        "            if users_answer == v:\n",
        "                print('Correct! ')\n",
        "                current_mark += 1\n",
        "                return current_mark\n",
        "            else:\n",
        "                print(\"Incorrect! \")\n",
        "                current_mark -= 1\n",
        "                return current_mark\n",
        "        else:\n",
        "            print(\"Error \")\n",
        "\n",
        "def show_total_score():\n",
        "    pass\n",
        "\n",
        "\n",
        "def new_question(question, answer, mark):\n",
        "    pass\n",
        "\n",
        "\n",
        "def get_random_question():\n",
        "    pass\n",
        "\n",
        "\n",
        "current_mark = 0\n",
        "\n",
        "questions_list = {1:'What is sum?/statement/function/robot/spiderman/1.0',\n",
        "                  2:'How to get money in ligal way?/go to work/grab a bank/ask mom/create it at home/1.0',\n",
        "                  3:'When do lessons should start?/at early morning/at afternoon/at evening/never/1.0'}\n",
        "\n",
        "correct_answers = {1:'b',\n",
        "                   2:'a',\n",
        "                   3:'d'}\n",
        "\n",
        "first_question = list(questions_list.keys())[0]\n",
        "last_question = list(questions_list.keys())[-1]\n",
        "number = int(input(f\"Enter a number of question ({first_question}-{last_question}): \"))\n",
        "current_question = get_question(number)\n",
        "print(current_question[0])\n",
        "print(f\"a) {current_question[1]}\")\n",
        "print(f\"b) {current_question[2]}\")\n",
        "print(f\"c) {current_question[3]}\")\n",
        "print(f\"d) {current_question[4]}\")\n",
        "print(f\"Mark: {current_question[5]}\")\n",
        "users_answer = input(\"Enter your answer: \").lower()\n",
        "\n",
        "current_mark = check_answer(users_answer, number, current_mark)\n",
        "print(current_mark)\n"
      ],
      "metadata": {
        "id": "DhxyYwHwh2V4"
      },
      "execution_count": null,
      "outputs": []
    }
  ]
}