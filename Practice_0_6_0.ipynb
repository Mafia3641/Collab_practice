{
  "nbformat": 4,
  "nbformat_minor": 0,
  "metadata": {
    "colab": {
      "provenance": [],
      "include_colab_link": true
    },
    "kernelspec": {
      "name": "python3",
      "display_name": "Python 3"
    },
    "language_info": {
      "name": "python"
    }
  },
  "cells": [
    {
      "cell_type": "markdown",
      "metadata": {
        "id": "view-in-github",
        "colab_type": "text"
      },
      "source": [
        "<a href=\"https://colab.research.google.com/github/Mafia3641/Collab_practice/blob/main/Practice_0_6_0.ipynb\" target=\"_parent\"><img src=\"https://colab.research.google.com/assets/colab-badge.svg\" alt=\"Open In Colab\"/></a>"
      ]
    },
    {
      "cell_type": "markdown",
      "source": [
        "\n",
        "\n",
        "---\n",
        "\n"
      ],
      "metadata": {
        "id": "tKNG_RzWxG6g"
      }
    },
    {
      "cell_type": "markdown",
      "source": [
        "# **Дисклеймер**\n",
        "\n",
        "В данной практике будет введен дополнительный критерий: чистота и читаемость кода, а также соблюдение правил описанных в начале практики"
      ],
      "metadata": {
        "id": "cFcrKfclKWh0"
      }
    },
    {
      "cell_type": "markdown",
      "source": [
        "\n",
        "\n",
        "---\n",
        "\n"
      ],
      "metadata": {
        "id": "0SnE87X1xDlV"
      }
    },
    {
      "cell_type": "markdown",
      "source": [
        "# Задание 1\n",
        "\n",
        "**Задача:**\n",
        "\n",
        "Напишите функцию очищающий список от дубликтов\n",
        "\n",
        "\n",
        "*Запрещено:*\n",
        "\n",
        "*   Использовать set() или готовые функции очищающие список от дубликатов\n",
        "\n",
        "Вввод:\n",
        "\n",
        "```\n",
        "apple banana apple 1 3 4 4 5\n",
        "```\n",
        "\n",
        "\n",
        "Вывод:\n",
        "\n",
        "```\n",
        "apple banana 1 3 4 5\n",
        "```\n",
        "\n"
      ],
      "metadata": {
        "id": "VxawR9NubT_F"
      }
    },
    {
      "cell_type": "code",
      "source": [
        "words = 'apple banana apple 1 3 4 4 5'\n",
        "words_list = words.split()\n",
        "\n",
        "for w1 in words_list:\n",
        "    for w2 in words_list[1:]:\n",
        "        if w1 == w2:\n",
        "            ind = words_list[1:].index(w2)\n",
        "            print(words_list)\n",
        "\n",
        "            words_list.pop(ind+1)\n",
        "            print(words_list)\n"
      ],
      "metadata": {
        "id": "ml5gnbPXbeju"
      },
      "execution_count": null,
      "outputs": []
    },
    {
      "cell_type": "markdown",
      "source": [
        "# Задание 2\n",
        "\n",
        "**Задача:**\n",
        "\n",
        "Написать функцию для нахождения простых чисел в диапазоне\n",
        "\n",
        "Ввод:\n",
        "\n",
        "```\n",
        "10, 50\n",
        "```\n",
        "\n",
        "Вывод:\n",
        "\n",
        "```\n",
        "11, 13, 17, 19, 23, 29, 31, 37, 41, 43, 47\n",
        "```"
      ],
      "metadata": {
        "id": "y05x0eD0cVCC"
      }
    },
    {
      "cell_type": "code",
      "source": [
        "def is_common(num: int):\n",
        "\n",
        "    c = 0\n",
        "\n",
        "    for i in range(2, num):\n",
        "        if num % i == 0:\n",
        "            c += 1\n",
        "\n",
        "    if c == 0:\n",
        "        return num\n",
        "\n",
        "    return ''\n",
        "\n",
        "\n",
        "input_range = input(\"Enter range borders: \")\n",
        "input_range = input_range.split(\",\")\n",
        "nums_range = range(int(input_range[0]), int(input_range[1])+1)\n",
        "nums_str = ''\n",
        "\n",
        "for num in nums_range:\n",
        "    ans = is_common(num)\n",
        "    if ans != '':\n",
        "        nums_str += str(ans) + ' '\n",
        "\n",
        "print(nums_str)"
      ],
      "metadata": {
        "id": "XSMJnLgrc6Bf",
        "colab": {
          "base_uri": "https://localhost:8080/"
        },
        "outputId": "f59bee86-d04d-4345-9d71-99a4b717d53b"
      },
      "execution_count": null,
      "outputs": [
        {
          "output_type": "stream",
          "name": "stdout",
          "text": [
            "Enter range borders: 10,50\n",
            "11 13 17 19 23 29 31 37 41 43 47 \n"
          ]
        }
      ]
    },
    {
      "cell_type": "markdown",
      "source": [
        "# Задание 3\n",
        "\n",
        "Напишите функцию для объединения двух списков (список ключей и список значении) в словарь\n",
        "\n",
        "*Запрещено:*\n",
        "\n",
        "*   Использования готовых функции для объединения списков (пример: zip() )\n",
        "\n",
        "Дано:\n",
        "\n",
        "```\n",
        "keys = ['a', 'b', 'c', 'e' ]\n",
        "values = [1, 2, 3, 4]\n",
        "```\n",
        "\n",
        "Вывод:\n",
        "```\n",
        "{'a': 1, 'b': 2, 'c': 3, 'e': 4}\n",
        "```\n",
        "\n",
        "\n"
      ],
      "metadata": {
        "id": "vYM0LyxxdElN"
      }
    },
    {
      "cell_type": "code",
      "source": [
        "\n",
        "keys = ['a', 'b', 'c', 'e' ]\n",
        "values = [1, 2, 3, 4]\n",
        "dictionary = {}\n",
        "\n",
        "if len(keys) != len(values):\n",
        "    exit()\n",
        "\n",
        "for key in keys:\n",
        "    key_pos = keys.index(key)\n",
        "    dictionary[key] = values[key_pos]\n",
        "\n",
        "print(dictionary)"
      ],
      "metadata": {
        "id": "CRvhHTjCdvjS"
      },
      "execution_count": null,
      "outputs": []
    },
    {
      "cell_type": "markdown",
      "source": [
        "# Задание 4\n",
        "\n",
        "Напишите функцию(ии) для подсчета статистических параметров:\n",
        "*   Сумму\n",
        "*   Среднее арифметическое\n",
        "*   Медиану\n",
        "*   Моду\n",
        "\n",
        "\n",
        "*Запрещено:*\n",
        "\n",
        "*   sum()\n",
        "*   sorted()\n",
        "*   и других функции предоставляющих готовое решение задания\n",
        "\n",
        "Дано:\n",
        "\n",
        "```\n",
        "numbers = [1, 2, 2, 3, 4, 5, 6, 7, 8 ,9 ,10]\n",
        "\n",
        "```\n",
        "\n",
        "Вывод:\n",
        "```\n",
        "{'mean': 5.181818181818182, 'median': 5, 'mode': 2, 'sum': 57}\n",
        "```\n"
      ],
      "metadata": {
        "id": "L_w8H8i-fQcP"
      }
    },
    {
      "cell_type": "code",
      "source": [
        "def avg(nums_list):\n",
        "\n",
        "    mean = 0\n",
        "\n",
        "    for num in nums_list:\n",
        "        mean += num\n",
        "\n",
        "    return (mean/len(nums_list))\n",
        "\n",
        "\n",
        "def med(nums_list):\n",
        "    avg_num = (nums_list[0] + nums_list[-1])/2\n",
        "    avg_num = int(avg_num)\n",
        "\n",
        "    return avg_num\n",
        "\n",
        "\n",
        "def mode(nums_list):\n",
        "\n",
        "    max_c = 0\n",
        "    mostly_used_num = 0\n",
        "\n",
        "    for num in nums_list:\n",
        "        c = 0\n",
        "        curr_num = num\n",
        "\n",
        "        for num1 in nums_list[1:]:\n",
        "            if num == num1:\n",
        "                c += 1\n",
        "\n",
        "        if max_c < c:\n",
        "            max_c = c\n",
        "            mostly_used_num = curr_num\n",
        "\n",
        "    return mostly_used_num\n",
        "\n",
        "\n",
        "def summa(nums_list):\n",
        "    s = 0\n",
        "\n",
        "    for num in nums_list:\n",
        "        s += num\n",
        "\n",
        "    return s\n",
        "\n",
        "\n",
        "numbers = [1, 2, 2, 3, 4, 5, 6, 7, 8, 9, 10]\n",
        "calculated_dict = {'mean': avg(numbers), 'median': med(numbers), 'mode': mode(numbers), 'sum': summa(numbers)}\n",
        "\n",
        "print(calculated_dict)\n"
      ],
      "metadata": {
        "id": "dW6jW_rjfuba"
      },
      "execution_count": null,
      "outputs": []
    },
    {
      "cell_type": "markdown",
      "source": [
        "# Задание 5\n",
        "\n",
        "На ввод поступает строка символов. Строка состоит из слов, которые отделены друг от друга пробелами. Необходимо вывести самое длинное слово и его порядковый номер.\n",
        "\n",
        "*Запрещено:*\n",
        "\n",
        "*   len()\n",
        "\n",
        "Дано:\n",
        "\n",
        "```\n",
        "Страдание и боль всегда обязательны для широкого сознания и глубокого сердца.\n",
        "\n",
        "```\n",
        "\n",
        "Вывод:\n",
        "```\n",
        "Самое длинное слово с номером 5: обязательны\n",
        "```"
      ],
      "metadata": {
        "id": "hZW0NZ7SgTcp"
      }
    },
    {
      "cell_type": "code",
      "source": [
        "def max_word(words_list):\n",
        "\n",
        "    max_c = 0\n",
        "    top_word = ''\n",
        "\n",
        "    for word in words_list:\n",
        "        c = 0\n",
        "        for letter in word:\n",
        "            c += 1\n",
        "        if max_c < c:\n",
        "            max_c = c\n",
        "            top_word = word\n",
        "\n",
        "    return top_word\n",
        "\n",
        "\n",
        "def word_index(word):\n",
        "    ind = words_list.index(word)\n",
        "\n",
        "    return (ind+1)\n",
        "\n",
        "\n",
        "string = 'Страдание и боль всегда обязательны для широкого сознания и глубокого сердца.'\n",
        "\n",
        "string = string.rstrip('.')\n",
        "words_list = string.split()\n",
        "\n",
        "most_used_word = max_word(words_list)\n",
        "print(f'Самое длинное слово с номером {word_index(most_used_word)}: ', max_word(words_list))\n"
      ],
      "metadata": {
        "id": "rC5DpHHLsDYp",
        "colab": {
          "base_uri": "https://localhost:8080/"
        },
        "outputId": "06b6903f-04c2-492d-ef5e-adf628dc0e43"
      },
      "execution_count": null,
      "outputs": [
        {
          "output_type": "stream",
          "name": "stdout",
          "text": [
            "обязательны\n"
          ]
        }
      ]
    },
    {
      "cell_type": "markdown",
      "source": [
        "# Задание 6\n",
        "\n",
        "Напишите программу, для управления оценками студентов, со следующими функциями:\n",
        "\n",
        "* Добавление информации о студенте и его оценках.\n",
        "* Подсчет среднего балла студента.\n",
        "* Получение списка всех студентов с их средними баллами.\n",
        "* Поиск студента по имени и вывод его оценок и среднего балла.\n",
        "\n",
        "\n",
        "\n"
      ],
      "metadata": {
        "id": "k5BzJW5ZeaQN"
      }
    },
    {
      "cell_type": "code",
      "source": [
        "\n",
        "\n",
        "def create_profile(name, second_name, mark_list):\n",
        "    students[f'{name} {second_name}'] = mark_list\n",
        "\n",
        "\n",
        "def avg_mark(name, second_name):\n",
        "    key = name + ' ' + second_name\n",
        "\n",
        "    try:\n",
        "        avg_m = sum(students[key])/len(students[key])\n",
        "        return avg_m\n",
        "    except:\n",
        "        print(\"Wrong interrupt! \")\n",
        "        return\n",
        "\n",
        "\n",
        "def get_all_avg():\n",
        "    for k, v in students.items():\n",
        "        print(f\"Average mark for student {k} is {(sum(v)/len(v)):.2f}\")\n",
        "\n",
        "    return ''\n",
        "\n",
        "\n",
        "def find_student(name, surname):\n",
        "    key = name + ' ' + surname\n",
        "\n",
        "    try:\n",
        "        print(f\"Found: {list(map(int, students[key]))}, average mark is {avg_mark(name, surname)}\")\n",
        "        return ''\n",
        "    except:\n",
        "        print(\"Wrong interrupt!\")\n",
        "\n",
        "\n",
        "students = {}\n",
        "\n",
        "print('What do you need?')\n",
        "print('1: Add new profile')\n",
        "print('2: Get average mark for student')\n",
        "print('3: Get all students marks and average marks')\n",
        "print('4: Get mark and average marks for student')\n",
        "\n",
        "request = input('')\n",
        "\n",
        "if request == '1':\n",
        "\n",
        "    name = input(\"Name: \").lower()\n",
        "    surname = input(\"Surname: \").lower()\n",
        "\n",
        "    if name + ' ' + surname in students.keys():\n",
        "        print(\"Name already exists! \")\n",
        "        exit()\n",
        "\n",
        "    marks = input(\"Marks (sep by ' '): \").split()\n",
        "    marks = list(map(int, marks))\n",
        "    create_profile(name, surname, marks)\n",
        "\n",
        "elif request == '2':\n",
        "\n",
        "    name = input(\"Name: \").lower()\n",
        "    surname = input(\"Surname: \").lower()\n",
        "\n",
        "    if name + ' ' + surname not in students.keys():\n",
        "        print(\"Does not exist! \")\n",
        "        exit()\n",
        "\n",
        "    print(f'Average mark for this student is: {avg_mark(name, surname)}')\n",
        "\n",
        "elif request == '3':\n",
        "    get_all_avg()\n",
        "\n",
        "elif request == '4':\n",
        "\n",
        "    name = input(\"Name: \").lower()\n",
        "    surname = input(\"Surname: \").lower()\n",
        "\n",
        "    if name + ' ' + surname not in students.keys():\n",
        "        print(\"Name does not exist! \")\n",
        "        exit()\n",
        "\n",
        "    find_student(name, surname)\n",
        ""
      ],
      "metadata": {
        "id": "cvhlltVbdyoL"
      },
      "execution_count": null,
      "outputs": []
    },
    {
      "cell_type": "markdown",
      "source": [
        "# Задание 7\n",
        "\n",
        "\n",
        "**Задача:**\n",
        "\n",
        "Создайте приложение-викторину с командной строкой, которое задает пользователям вопросы по различным темам и отслеживает их результаты.\n",
        "\n",
        "Ключевые особенности:\n",
        "\n",
        "*   Хранение данных о вопросах и ответах на них, а также баллов за каждый вопрос\n",
        "*   Реализуйте функцию для представления вопросов, принятия ответов пользователей и предоставления обратной связи о том, являются ли ответы правильными или неправильными.\n",
        "*  После завершения викторины отобразите общий балл пользователя из числа ответов на вопросы.\n",
        "*  Реализуйте функцию добавления нового вопроса\n",
        "*  Реализуйте функцию перемешивания вопросов, для отображения случайного вопроса\n"
      ],
      "metadata": {
        "id": "iQ8Z-7PYgu1_"
      }
    },
    {
      "cell_type": "code",
      "source": [
        "import random\n",
        "\n",
        "\n",
        "def get_question(number):\n",
        "    key = number\n",
        "\n",
        "    for k, v in questions_list.items():\n",
        "        if k == key:\n",
        "            del questions_list[k]\n",
        "            return v.split(\"/\")\n",
        "    return 0\n",
        "\n",
        "\n",
        "def check_answer(users_answer, question_number):\n",
        "\n",
        "    key = question_number\n",
        "    curr_mark = 0\n",
        "\n",
        "    for k, v in correct_answers.items():\n",
        "        if k == key:\n",
        "            if users_answer == v:\n",
        "                print('Correct! ')\n",
        "                curr_mark += 1\n",
        "                return curr_mark\n",
        "\n",
        "            else:\n",
        "                print(\"Incorrect! \")\n",
        "                return curr_mark\n",
        "\n",
        "\n",
        "def show_total_score(score):\n",
        "    print(f\"You've got {score} points! Game over! \")\n",
        "    print('closing program... ')\n",
        "    exit()\n",
        "\n",
        "\n",
        "def new_question(number):\n",
        "\n",
        "    current_question = get_question(number)\n",
        "\n",
        "    print(current_question[0])\n",
        "    print(f\"a) {current_question[1]}\")\n",
        "    print(f\"b) {current_question[2]}\")\n",
        "    print(f\"c) {current_question[3]}\")\n",
        "    print(f\"d) {current_question[4]}\")\n",
        "    print(f\"Mark: {current_question[5]}\")\n",
        "\n",
        "    users_answer = input(\"Enter your answer: \").lower()\n",
        "    current_mark = check_answer(users_answer, number)\n",
        "\n",
        "    print(current_mark)\n",
        "    return current_mark\n",
        "\n",
        "\n",
        "def get_random_question():\n",
        "    available_questions = list(questions_list.keys())\n",
        "    question_num = random.choice(available_questions)\n",
        "    score = new_question(question_num)\n",
        "    if score == 1:\n",
        "        print(\"You won! \")\n",
        "    else:\n",
        "        print(\"You are wrong! \")\n",
        "\n",
        "    return\n",
        "\n",
        "\n",
        "def add_question():\n",
        "    question_id = list(questions_list.keys())[-1] + 1\n",
        "\n",
        "    question = input(\"Enter new question: \")\n",
        "    ans1 = input(\"Enter first answer: \")\n",
        "    ans2 = input(\"Enter second answer: \")\n",
        "    ans3 = input(\"Enter third answer: \")\n",
        "    ans4 = input(\"Enter forth answer: \")\n",
        "\n",
        "    questions_list[question_id] = f'{question}/{ans1}/{ans2}/{ans3}/{ans4}/1.0'\n",
        "\n",
        "    correct_ans = input(\"What answer is correct? (enter a-d): \")\n",
        "    print(\"Your question was added to the list! \")\n",
        "\n",
        "    correct_answers[question_id] = correct_ans\n",
        "    print(questions_list[question_id])\n",
        "\n",
        "    print(\"Here is your new question: \")\n",
        "    new_question(question_id)\n",
        "\n",
        "\n",
        "questions_list = {1: 'What is sum?/statement/function/robot/spider-man/1.0',\n",
        "                  2: 'How to get money in legal way?/go to work/grab a bank/ask mom/create it at home/1.0',\n",
        "                  3: 'When do lessons should start?/at early morning/at afternoon/at evening/never/1.0'}\n",
        "\n",
        "correct_answers = {1: 'b',\n",
        "                   2: 'a',\n",
        "                   3: 'd'}\n",
        "\n",
        "\n",
        "def main():\n",
        "    total_score = 0\n",
        "\n",
        "    print(\"Hello! \")\n",
        "    print(\"What can we do: \")\n",
        "    print(\"1) Answer questions \")\n",
        "    print(\"2) Get random question \")\n",
        "    print(\"3) Add new question  \")\n",
        "\n",
        "    move = input(\"Enter a number: \")\n",
        "    if move == '1':\n",
        "\n",
        "        while True:\n",
        "\n",
        "            available_questions = list(questions_list.keys())\n",
        "\n",
        "            if not available_questions:\n",
        "                print('No more questions! ')\n",
        "                show_total_score(total_score)\n",
        "                break\n",
        "\n",
        "            first_question = available_questions[0]\n",
        "            last_question = available_questions[-1]\n",
        "\n",
        "            number = int(input(f\"Enter a number of question ({first_question}-{last_question}): \"))\n",
        "            mark = new_question(number)\n",
        "            total_score += mark\n",
        "\n",
        "    elif move == '2':\n",
        "        get_random_question()\n",
        "\n",
        "    elif move == '3':\n",
        "        add_question()\n",
        "\n",
        "\n",
        "main()\n"
      ],
      "metadata": {
        "id": "DhxyYwHwh2V4",
        "colab": {
          "base_uri": "https://localhost:8080/"
        },
        "outputId": "767eb2d6-cb7d-4b2d-f1b1-d513e5753065"
      },
      "execution_count": 1,
      "outputs": [
        {
          "output_type": "stream",
          "name": "stdout",
          "text": [
            "Enter a number of question (1-3): 1\n",
            "What is sum?\n",
            "a) statement\n",
            "b) function\n",
            "c) robot\n",
            "d) spiderman\n",
            "Mark: 1.0\n",
            "Enter your answer: statement\n",
            "Incorrect! \n",
            "-1\n"
          ]
        }
      ]
    }
  ]
}