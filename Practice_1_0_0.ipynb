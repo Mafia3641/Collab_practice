{
  "nbformat": 4,
  "nbformat_minor": 0,
  "metadata": {
    "colab": {
      "provenance": [],
      "include_colab_link": true
    },
    "kernelspec": {
      "name": "python3",
      "display_name": "Python 3"
    },
    "language_info": {
      "name": "python"
    }
  },
  "cells": [
    {
      "cell_type": "markdown",
      "metadata": {
        "id": "view-in-github",
        "colab_type": "text"
      },
      "source": [
        "<a href=\"https://colab.research.google.com/github/Mafia3641/Collab_practice/blob/main/Practice_1_0_0.ipynb\" target=\"_parent\"><img src=\"https://colab.research.google.com/assets/colab-badge.svg\" alt=\"Open In Colab\"/></a>"
      ]
    },
    {
      "cell_type": "markdown",
      "source": [
        "**ФИО**: Стрепетов Степан Дмитриевич ПИИ\n"
      ],
      "metadata": {
        "id": "fLDS5f_mCnPa"
      }
    },
    {
      "cell_type": "markdown",
      "source": [
        "# Задание (совместное с преподавателем)\n",
        "\n",
        "\n"
      ],
      "metadata": {
        "id": "-CSHUbWzCqeM"
      }
    },
    {
      "cell_type": "markdown",
      "source": [
        "Напишите систему для учёта отпусков с возможностью узнавать, сколько дней отпуска осталось у того или иного сотрудника.\n",
        "Для этого создайте класс Employee со следующими методами:\n",
        "\n",
        "- Метод consume_vacation должен отвечать за списание дней отпуска.\n",
        "\n",
        "Единственный параметр этого метода (кроме self) — количество потраченных отпускных дней (целое число).\n",
        "\n",
        "При вызове метода consume_vacation соответствующее количество дней должно вычитаться из общего числа доступных отпускных дней сотрудника.\n",
        "\n",
        "Чтобы определить число доступных отпускных дней конкретного сотрудника, в классе опишите атрибут экземпляра |, который по умолчанию будет равен значению атрибута класса vacation_days, и используйте этот атрибут в работе метода.\n",
        "\n",
        "- Метод get_vacation_details должен возвращать остаток отпускных дней сотрудника в формате: ```Остаток отпускных дней: <число>.```\n",
        "\n",
        "\n",
        "Чтобы проверить работу программы:\n",
        "1. Создайте экземпляр класса Employee.\n",
        "2. Вызовите метод consume_vacation, указав подходящее значение аргумента, например 7.\n",
        "3. Вызовите метод get_vacation_details."
      ],
      "metadata": {
        "id": "a_flBjZOCwYz"
      }
    },
    {
      "cell_type": "code",
      "source": [
        "class Employee:\n",
        "\n",
        "    vacation_days = 28\n",
        "\n",
        "    def __init__(self, first_name, second_name, gender):\n",
        "        self.first_name = first_name\n",
        "        self.second_name = second_name\n",
        "        self.gender = gender\n",
        "        self.vacation_days_remaining = self.vacation_days\n",
        "\n",
        "    def consume_vacation(self, days):\n",
        "        self.vacation_days_remaining -= days\n",
        "\n",
        "    def vacation_detales(self):\n",
        "        return f'For {self.first_name}: vacation days remaining: {self.vacation_days_remaining} '\n",
        "\n"
      ],
      "metadata": {
        "id": "G4bUraN4CwBI"
      },
      "execution_count": null,
      "outputs": []
    },
    {
      "cell_type": "markdown",
      "source": [
        "# Задание 1"
      ],
      "metadata": {
        "id": "8XGka5GtEBK1"
      }
    },
    {
      "cell_type": "markdown",
      "source": [
        "Задание:\n",
        "\n",
        "Создайте класс с именем Rectangle который имеет:\n",
        "- Атрибуты ширины и высоты.\n",
        "- Метод расчета площади.\n",
        "- Метод расчета периметра.\n",
        "- Метод отображения размеров прямоугольника.\n",
        "\n",
        "Создайте экземпляр класса Rectangleи продемонстрируйте его функциональность."
      ],
      "metadata": {
        "id": "jQ4qqd8nEZBY"
      }
    },
    {
      "cell_type": "code",
      "source": [
        "class Rectangle:\n",
        "\n",
        "    def __init__(self, width, height):\n",
        "        self.rectangle_width = width\n",
        "        self.rectangle_height = height\n",
        "\n",
        "    def square(self):\n",
        "        print(f'Площадь прямоугольника равна: {self.rectangle_width * self.rectangle_height:.1f}')\n",
        "\n",
        "    def perimeter(self):\n",
        "        print(f'Периметр прямоугольника равен: {(self.rectangle_width + self.rectangle_height) * 2}')\n",
        "\n",
        "    def check_dimensions(self):\n",
        "        print(f'Размеры прямоугольника: {self.rectangle_width}*{self.rectangle_height}')\n",
        "\n",
        "\n",
        "rect1 = Rectangle(20, 10)\n",
        "rect1.square()\n",
        "rect1.perimeter()\n",
        "rect1.check_dimensions()\n"
      ],
      "metadata": {
        "id": "dG6uNPqTEAvt"
      },
      "execution_count": null,
      "outputs": []
    },
    {
      "cell_type": "markdown",
      "source": [
        "# Задание 2"
      ],
      "metadata": {
        "id": "0ct1u6lqE73j"
      }
    },
    {
      "cell_type": "markdown",
      "source": [
        "Задание: Создайте мини версию банковской системы:\n",
        "\n",
        "\n",
        "Инструкции:\n",
        "\n",
        "1. Создайте класс BankAccountсо следующими атрибутами:\n",
        "    - account_holder -  владелец счета\n",
        "    - balance - баланс счета\n",
        "\n",
        "2. Реализуйте следующие методы:\n",
        "    - Метод для инициализации владельца счета: имя владельца счета и установите начальный баланс на 0.\n",
        "    - deposit(amount): Добавьте указанную сумму к балансу.\n",
        "    - withdraw(amount): Вычесть указанную сумму из баланса, если средств достаточно; в противном случае вывести предупреждение.\n",
        "    - get_balance(): Возврат текущего баланса.\n",
        "\n",
        "\n",
        "Создайте объект класса и продемонстрируйте его возможности"
      ],
      "metadata": {
        "id": "FOpIpcLxE-WK"
      }
    },
    {
      "cell_type": "code",
      "source": [
        "class BankAccount:\n",
        "\n",
        "    default_balance = 0\n",
        "\n",
        "    def __init__(self, account_holder, default_balance=default_balance):\n",
        "        self.account_name = account_holder\n",
        "        self.account_balance = default_balance\n",
        "\n",
        "    def deposit(self, curr_deposit):\n",
        "        self.account_balance += curr_deposit\n",
        "\n",
        "    def withdraw(self, amount):\n",
        "        self.account_balance -= amount\n",
        "\n",
        "    def get_balance(self):\n",
        "        print(f'Current balance for user {self.account_name} is {self.account_balance}')\n",
        "\n",
        "\n",
        "bank_user1 = BankAccount('IvanSokolov')\n",
        "print(bank_user1.account_name, bank_user1.account_balance)\n",
        "\n",
        "bank_user1.deposit(2000)\n",
        "bank_user1.withdraw(100)\n",
        "bank_user1.get_balance()\n"
      ],
      "metadata": {
        "id": "WWXNIUrCE99W"
      },
      "execution_count": null,
      "outputs": []
    },
    {
      "cell_type": "markdown",
      "source": [
        "# Задание 3"
      ],
      "metadata": {
        "id": "C5DX5Uf2FfP6"
      }
    },
    {
      "cell_type": "markdown",
      "source": [
        "Возьмите код и задание (Рыцарь и дракон) из предыдущей практики и реализуйте его с применением классов"
      ],
      "metadata": {
        "id": "0cR-MYepFgz6"
      }
    },
    {
      "cell_type": "code",
      "source": [
        "import random\n",
        "dragon_names = [\n",
        "    'Griffon',\n",
        "\t  'Naga',\n",
        "\t  'Azure',\n",
        "\t  'Arcon',\n",
        "\t  'Vive-rn'\n",
        "]\n",
        "\n",
        "\n",
        "class Hero:\n",
        "\n",
        "    def __init__(self, name, weapon, curr_armor=0, curr_dmg=10, curr_hp=100, curr_money=0):\n",
        "        self.name = name\n",
        "        self.weapon = weapon\n",
        "        self.armor = curr_armor\n",
        "        self.damage = curr_dmg\n",
        "        self.hp = curr_hp\n",
        "        self.money = curr_money\n",
        "        print(\"Your stats: \")\n",
        "        print(\"Name: \"+self.name)\n",
        "        print(\"Weapon: \"+self.weapon)\n",
        "        print(f\"Damage: {self.damage}\")\n",
        "        print(f\"HP: {self.hp}\")\n",
        "        print(f\"Armor: {self.armor}\")\n",
        "        print(f\"Coins: {self.money}\")\n",
        "        print(\"_______________________________________________________________\", end='\\n')\n",
        "\n",
        "    def start_fighting(self):\n",
        "        dragon_name = random.choice(dragon_names)\n",
        "        dragon_armor = 0\n",
        "        dragon_damage = random.randint(1, 10)\n",
        "        dragon_hp = random.randint(100, 200)\n",
        "\n",
        "        print(f'You see a dragon {dragon_name}! ')\n",
        "        print('Its stats: ')\n",
        "        print(f'Damage = {dragon_damage}')\n",
        "        print(f'HP = {dragon_hp}')\n",
        "        print(f'Armor = {dragon_armor}', end ='\\n')\n",
        "        print('Fighting starts! ')\n",
        "\n",
        "        curr_hero_hp = self.hp + self.armor\n",
        "        curr_dragon_hp = dragon_hp\n",
        "        while curr_hero_hp > 0 or curr_dragon_hp > 0:\n",
        "            dragon_hit = random.randint((dragon_damage*0.75)//1, (dragon_damage*1.25)//1)\n",
        "            hero_hit = random.randint((self.damage*0.75)//1, (self.damage*1.25)//1)\n",
        "\n",
        "            print(f'Dragon hitted {dragon_hit} dmg you, hp = {curr_hero_hp}-{dragon_hit} ')\n",
        "            curr_hero_hp -= dragon_hit\n",
        "\n",
        "            print(f'You hitted {hero_hit} dragon, dragon hp = {curr_dragon_hp}-{hero_hit} ', end='\\n')\n",
        "            curr_dragon_hp -= hero_hit\n",
        "\n",
        "            if curr_hero_hp <= 0:\n",
        "                print('You lost... Calling an ambulance cost you 20 coins')\n",
        "                self.money = self.money - 20 if self.money >= 20 else 0\n",
        "                return\n",
        "            elif curr_dragon_hp <= 0:\n",
        "                print('You won! For deafeating this dragon king payed you 40 coins! ')\n",
        "                self.money += 40\n",
        "                return\n",
        "\n",
        "    def go_shopping(self):\n",
        "        print(\"You are entering a town...\")\n",
        "        armor_upgrading_cost = self.armor // 5 * 10 if self.armor != 0 else 10\n",
        "        print(f\"Now you have {self.armor} armor and {self.damage} damage on your weapon. \")\n",
        "        print(f\"Do you want to upgrade your armor? It will cost you {armor_upgrading_cost}. y/n?\")\n",
        "        a = input().lower()\n",
        "        if a == 'y':\n",
        "            if self.money >= armor_upgrading_cost:\n",
        "                print(\"You upgraded your armor! \")\n",
        "                self.money -= armor_upgrading_cost\n",
        "                self.armor += self.armor//2\n",
        "                print(f\"Now you have: {self.armor} armor. \")\n",
        "            else:\n",
        "                print(f\"You have no money for this! You have: {self.money}. \")\n",
        "        else:\n",
        "            print(\"Your are skipping armor shop...\")\n",
        "\n",
        "        weapon_upgrading_cost = self.damage * 5 if self.damage != 10 else 50\n",
        "        print(f\"Do you want to upgrade your weapon? It will cost you {weapon_upgrading_cost}. y/n?\")\n",
        "        a = input().lower()\n",
        "\n",
        "        if a == 'y':\n",
        "            if self.money >= weapon_upgrading_cost:\n",
        "                print(\"You upgraded your weapon! \")\n",
        "                self.money -= weapon_upgrading_cost\n",
        "                self.damage += self.damage + 20\n",
        "                print(f\"Now you have: {self.damage} damage on {self.weapon}. \")\n",
        "            else:\n",
        "                print(f\"You have no money for this! You have: {self.money}. \")\n",
        "        else:\n",
        "            print(\"Your are skipping weapon shop...\")\n",
        "\n",
        "    def play_casino(self):\n",
        "        if self.money <= 4:\n",
        "            print(\"You have no money to play there! \")\n",
        "            return\n",
        "        print(\"You are in casino. 1 game costs 5 coins. Do you want to play?\")\n",
        "        print(\"Enter 0 if you want to exit\")\n",
        "        a = int(input(\"Vote for a number 1-10: \"))\n",
        "        if a == 0:\n",
        "            print('You are go going to exit... ')\n",
        "        else:\n",
        "            win_num = random.randint(1, 10)\n",
        "            if a == win_num:\n",
        "                print(f\"You won! {self.money} + 10\")\n",
        "                self.money += 10\n",
        "            else:\n",
        "                print(f\"You lost! {self.money} - 5\")\n",
        "                self.money -= 5\n",
        "\n",
        "    def play(self, place):\n",
        "        if place == 'dragon':\n",
        "            print(\"You are trying to find a dragon... \", end='\\n')\n",
        "            self.start_fighting()\n",
        "        elif place == 'town':\n",
        "            self.go_shopping()\n",
        "        elif place == 'casino':\n",
        "            self.play_casino()\n",
        "        else:\n",
        "            print(\"Can't do it!\")\n",
        "\n",
        "\n",
        "def main():\n",
        "\n",
        "    print('Welcome to our alpha test! Thank you for installing the game \"Hero\", hope you will enjoy it! ')\n",
        "    name = input('Enter your name: ')\n",
        "    weapon = input('Choose your weapon: sword, knife, stick: ').lower()\n",
        "    main_character = Hero(name, weapon)\n",
        "    print(f\"Great, new hero {name} started this travel! \")\n",
        "\n",
        "    while True:\n",
        "        print(\"What do we do next? \")\n",
        "        print('Available spots: casino, dragon, town ')\n",
        "        print(\"_______________________________________________________________\", end='\\n')\n",
        "        curr_spot = input(\"Enter your next destination: \").lower()\n",
        "        main_character.play(curr_spot)\n",
        "\n",
        "\n",
        "if __name__ == '__main__':\n",
        "    main()\n"
      ],
      "metadata": {
        "id": "Oz9BZbhAFwua"
      },
      "execution_count": null,
      "outputs": []
    },
    {
      "cell_type": "markdown",
      "source": [
        "# Дополнительное задание\n"
      ],
      "metadata": {
        "id": "b_mJHXcQGI9t"
      }
    },
    {
      "cell_type": "markdown",
      "source": [
        "Задача: Система управления библиотекой\n",
        "\n",
        "**Цель**\n",
        "Создайте простую систему управления библиотекой, которая позволит пользователям добавлять книги, брать книги, возвращать книги и просматривать список доступных книг.\n",
        "\n",
        "**Требования**\n",
        "\n",
        "1. **Определение класса**:\n",
        "   – Создайте класс с именем «Book» со следующими атрибутами:\n",
        "     - `title`\n",
        "     - `автор`\n",
        "     - `isbn`\n",
        "     - `is_borrowed` (по умолчанию `False`)\n",
        "\n",
        "2. **Класс библиотеки**:\n",
        "   - Создайте класс с именем Library, который управляет коллекцией книг.\n",
        "   - Класс должен иметь следующие методы:\n",
        "     - `__init__(self)`: инициализирует пустой список книг.\n",
        "     - `add_book(self, book: Book)`: добавляет новую книгу в библиотеку.\n",
        "     - `borrow_book(self, isbn: str)`: помечает книгу как заимствованную. Если книга не найдена или уже взята, выведите соответствующее сообщение.\n",
        "     - `return_book(self, isbn: str)`: помечает книгу как возвращенную. Если книга не найдена или не была взята взаймы, выведите соответствующее сообщение.\n",
        "     - `list_available_books(self)`: печатает список всех доступных книг в библиотеке.\n",
        "     - `find_book(self, isbn: str)`: возвращает объект книги, если он найден, в противном случае возвращает `None`.\n",
        "\n",
        "3. **Взаимодействие с пользователем**:\n",
        "   - Создайте простое текстовое меню, которое позволит пользователям:\n",
        "     - Добавить книгу\n",
        "     - Одолжить книгу\n",
        "     - Вернуть книгу\n",
        "     - Список доступных книг\n",
        "     - Выйти из программы"
      ],
      "metadata": {
        "id": "pnIUdFPcGOVL"
      }
    },
    {
      "cell_type": "code",
      "source": [],
      "metadata": {
        "id": "GKKmdfN8GL6f"
      },
      "execution_count": null,
      "outputs": []
    }
  ]
}