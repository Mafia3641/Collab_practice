{
  "nbformat": 4,
  "nbformat_minor": 0,
  "metadata": {
    "colab": {
      "provenance": [],
      "include_colab_link": true
    },
    "kernelspec": {
      "name": "python3",
      "display_name": "Python 3"
    },
    "language_info": {
      "name": "python"
    }
  },
  "cells": [
    {
      "cell_type": "markdown",
      "metadata": {
        "id": "view-in-github",
        "colab_type": "text"
      },
      "source": [
        "<a href=\"https://colab.research.google.com/github/Mafia3641/Collab_practice/blob/main/Practice_0_7_0.ipynb\" target=\"_parent\"><img src=\"https://colab.research.google.com/assets/colab-badge.svg\" alt=\"Open In Colab\"/></a>"
      ]
    },
    {
      "cell_type": "markdown",
      "source": [
        "Ссылка на материалы:  [пдф тут](https://drive.google.com/file/d/16Cm2tgrpuDH8eIdxdSYyOsfDPqnJ3byd/view?usp=sharing)"
      ],
      "metadata": {
        "id": "M9IlAZAPBBm9"
      }
    },
    {
      "cell_type": "markdown",
      "source": [
        "ФИО:"
      ],
      "metadata": {
        "id": "ZLVI_WIcuT56"
      }
    },
    {
      "cell_type": "code",
      "source": [
        "********************"
      ],
      "metadata": {
        "id": "3AfG_Tal0P2S"
      },
      "execution_count": null,
      "outputs": []
    },
    {
      "cell_type": "markdown",
      "source": [
        "## Задание 1. HTTP-запросы, ответы и погода"
      ],
      "metadata": {
        "id": "Gtm1UjYgDlY7"
      }
    },
    {
      "cell_type": "markdown",
      "source": [
        "Описание:\n",
        "\n",
        "Напишите HTTP-запрос для получения информации о погоде в введенном городе из API.\n",
        "\n",
        "Можно использовать API: https://open-meteo.com/. Используйте метод GET.\n",
        "\n",
        "\n",
        "Ввод\n",
        "```\n",
        "56.50, 60.35\n",
        "```\n",
        "\n",
        "Вывод\n",
        "```\n",
        "Сегодня (1.11) погода 20 ◦С, нет осадков, туман\n",
        "```\n",
        "\n",
        "\n",
        "\n"
      ],
      "metadata": {
        "id": "FtjnLNIKzfMZ"
      }
    },
    {
      "cell_type": "code",
      "source": [
        "import requests\n",
        "from datetime import datetime\n",
        "\n",
        "\n",
        "# Отправка запроса о погоде\n",
        "def send_requests(url):\n",
        "\t\tresponse = requests.get(url)\n",
        "\t\tstatus_code = response.status_code\n",
        "\n",
        "\t\tif status_code == 200:\n",
        "\t\t\t\treturn response.json()\n",
        "\n",
        "\t\treturn None\n",
        "\n",
        "\n",
        "# Текущая дата\n",
        "def clear_data(data):\n",
        "\n",
        "\t\t# Текущая дата\n",
        "\t\tcurrent_date = datetime.today().date()\n",
        "\t\tcurrent_date = f'{current_date.day}.{current_date.month}'\n",
        "\n",
        "\t\t# Получение температуры\n",
        "\t\ttemperature = data['current']['temperature_2m']\n",
        "\n",
        "\t\t# Код погоды\n",
        "\t\tweather_code = data['current']['weather_code']\n",
        "\n",
        "\t\tif weather_code in [0, 1]:\n",
        "\t\t\t\tweather = 'нет осадков, ясно'\n",
        "\t\telif weather_code == 45:\n",
        "\t\t\t\tweather = 'нет осадков, туман'\n",
        "\t\telif weather_code in [61, 63, 65 ,71 ,73, 75]:\n",
        "\t\t\t\tweather = 'осадки, нет тумана'\n",
        "\t\telse:\n",
        "\t\t\t\tweather = 'выгляни в окно и посмотри сам'\n",
        "\n",
        "\t\tmessage = f'Сегодня ({current_date}) погода {temperature} ◦С, {weather}'\n",
        "\n",
        "\t\treturn message\n",
        "\n",
        "\n",
        "def main():\n",
        "\n",
        "\tcoordinates = input(\"Введите текущие координаты: \")\n",
        "\tcoordinates = coordinates.split(', ')\n",
        "\n",
        "\tcoord_x = coordinates[0]\n",
        "\tcoord_y = coordinates[1]\n",
        "\n",
        "\turl = f'https://api.open-meteo.com/v1/forecast?latitude={coord_x}&longitude={coord_y}&current=temperature_2m,precipitation,weather_code&hourly=temperature_2m&daily=weather_code&timezone=GMT&forecast_days=1'\n",
        "\trequest = send_requests(url)\n",
        "\tmessage = clear_data(request)\n",
        "\tprint(message)\n",
        "\n",
        "\n",
        "main()\n"
      ],
      "metadata": {
        "id": "5Mbs40_buVRV"
      },
      "execution_count": null,
      "outputs": []
    },
    {
      "cell_type": "markdown",
      "source": [
        "## Задание 2. HTTP-запросы, ответы и покемоны"
      ],
      "metadata": {
        "id": "FYjU9WmVDoGs"
      }
    },
    {
      "cell_type": "markdown",
      "source": [
        "**Описание:**\n",
        "\n",
        "\n",
        "Создайте код программы, которая будет взаимодействовать с API, со следующим функионалом:\n",
        "\n",
        "1. Используя метод GET, отправьте запрос на endpoint /pokemon, чтобы получить список первых 20 покемонов\n",
        "\n",
        "2. Извлеките имена покемонов из ответа и выведите их списком\n",
        "\n",
        "3. Введите с помощью input() название одного из покемонов\n",
        "\n",
        "\n",
        "```\n",
        "Имя покемона: clefairy\n",
        "```\n",
        "\n",
        "\n",
        "\n",
        "4. Отправьте GET-запрос, чтобы получить полную информацию о выбранном покемоне\n",
        "\n",
        "5. Извлеките и выведите следующие данные о введенном покемоне:\n",
        "\n",
        "     • Имя\n",
        "\n",
        "     • Тип\n",
        "\n",
        "     • Вес\n",
        "\n",
        "     • Рост\n",
        "\n",
        "     • Способности\n",
        "\n",
        "Используйте PokéAPI (https://pokeapi.co/), который предоставляет информацию о покемонах, их характеристиках, типах и другую информацию."
      ],
      "metadata": {
        "id": "oZ1guEbl0PZm"
      }
    },
    {
      "cell_type": "code",
      "source": [
        "from requests import get\n",
        "\n",
        "\n",
        "def request(url):\n",
        "\t\tresponse = get(url)\n",
        "\n",
        "\t\tif response.status_code == 200:\n",
        "\t\t\t\treturn response.json()\n",
        "\n",
        "\t\treturn None\n",
        "\n",
        "\n",
        "# Возвращает параметры покемона [имя, тип, вес, рост, способности]\n",
        "def get_pokemon_params(url):\n",
        "\n",
        "\t\tability_list = []\n",
        "\t\tdata = request(url)\n",
        "\n",
        "\t\tname = data['name']\n",
        "\t\ttype_ = data['types'][0]['type']['name']\n",
        "\t\tweight = data['weight']\n",
        "\t\theight = data['height']\n",
        "\n",
        "\t\tfor util in data['abilities']:\n",
        "\t\t\t\tability_list.append(util['ability']['name'])\n",
        "\t\t\t\tabilites = ', '.join(ability_list)\n",
        "\n",
        "\t\tmessage = [name, type_, weight, height, abilites]\n",
        "\n",
        "\t\treturn message\n",
        "\n",
        "\n",
        "def main():\n",
        "\n",
        "\t\tavailable_names = {}\n",
        "\t\tstart = input(\"Нажмите любую кнопку, чтобы начать: \")\n",
        "\t\turl = 'https://pokeapi.co/api/v2/pokemon?offset=20&limit=20'\n",
        "\n",
        "\t\tfor dict_ in request(url)['results']:\n",
        "\t\t\t\tavailable_names[dict_['name']] = dict_['url']\n",
        "\t\t\t\tprint(dict_['name'])\n",
        "\n",
        "\t\twhile True:\n",
        "\t\t\t\tcurrent_name = input(\"Введите имя покемона из списка: \")\n",
        "\t\t\t\tif current_name not in available_names:\n",
        "\t\t\t\t\t\tprint(\"Нет такого покемона! \")\n",
        "\t\t\t\telse:\n",
        "\t\t\t\t\t\tbreak\n",
        "\n",
        "\t\tcurr_url = available_names[f'{current_name}']\n",
        "\t\tmessage = get_pokemon_params(curr_url)\n",
        "\n",
        "\t\tprint(f'Name: {message[0]},\\nType: {message[1]},\\nWeight: {message[2]},\\nHeight: {message[3]},\\nAbilities: {message[4]}')\n",
        "\n",
        "\n",
        "main()\n"
      ],
      "metadata": {
        "id": "JkFmivjp25NL"
      },
      "execution_count": null,
      "outputs": []
    },
    {
      "cell_type": "markdown",
      "source": [
        "## Задание 3. HTTP-запросы, ответы и посты"
      ],
      "metadata": {
        "id": "Ci07uZdADue9"
      }
    },
    {
      "cell_type": "markdown",
      "source": [
        "**Описание:**\n",
        "\n",
        "Создайте программу, которая будет взаимодействовать с JSONPlaceholder API, реализуя следующие функции:\n",
        "\n",
        "1. Реализуйте функцию, которая выполняет GET-запрос к https://jsonplaceholder.typicode.com/posts и возвращает список постов в формате JSON\n",
        "\n",
        "2. Реализуйте функцию, котороая получает вводимое ID поста, выполняет GET-запрос по ID и возвращает данные поста в формате JSON\n",
        "\n",
        "3. Реализуйте функцию, которая выполняет обработку JSON из пункта 2 и выводит всю важную информацию в консоль"
      ],
      "metadata": {
        "id": "h194KTer1-B3"
      }
    },
    {
      "cell_type": "code",
      "source": [
        "from requests import get\n",
        "\n",
        "\n",
        "def request(url):\n",
        "\t\tresponse = get(url)\n",
        "\n",
        "\t\tif response.status_code == 200:\n",
        "\t\t\t\treturn response.json()\n",
        "\t\treturn None\n",
        "\n",
        "\n",
        "def get_all_posts(url):\n",
        "\t\treturn request(url)\n",
        "\n",
        "\n",
        "def get_posts_from_id(id, url):\n",
        "\t\tfor post in request(url):\n",
        "\t\t\t\tif post['id'] == int(id):\n",
        "\t\t\t\t\t\treturn post\n",
        "\t\treturn None\n",
        "\n",
        "\n",
        "def info(id, url):\n",
        "\t\tdata = get_posts_from_id(id, url)\n",
        "\n",
        "\t\tuser_id = data['userId']\n",
        "\t\ttitle = data['title']\n",
        "\t\tbody = data['body']\n",
        "\n",
        "\t\treturn [user_id, title, body]\n",
        "\n",
        "\n",
        "def main():\n",
        "\t\turl = 'https://jsonplaceholder.typicode.com/posts'\n",
        "\n",
        "\t\tinput(\"Нажмите любую кнопку, чтобы начать: \")\n",
        "\n",
        "\t\tprint(get_all_posts(url))\n",
        "\n",
        "\t\tid = input(\"Введите id поста: \")\n",
        "\t\tprint(get_posts_from_id(id, url))\n",
        "\t\tmessage = info(id, url)\n",
        "\n",
        "\t\tprint(f'User id is: {message[0]}')\n",
        "\t\tprint(f'Title is: {message[1]}')\n",
        "\t\tprint(f'Body is: {message[2]}')\n",
        "\n",
        "\n",
        "main()\n"
      ],
      "metadata": {
        "id": "YANQx4o258Zn"
      },
      "execution_count": null,
      "outputs": []
    },
    {
      "cell_type": "markdown",
      "source": [
        "## Задание 4. HTTP-запросы, ответы и работа с постами"
      ],
      "metadata": {
        "id": "rtwepQvJDy9N"
      }
    },
    {
      "cell_type": "markdown",
      "source": [
        "**Описание**\n",
        "\n",
        "Создайте программу, которая будет взаимодействовать с JSONPlaceholder API (из предыдущего задания), реализуя новые функции:\n",
        "\n",
        "1. Реализуйте функцию, которая принимает заголовок, содержимое и ID пользователя (информация вводится с помощью input()), выполняет POST-запрос для создания нового поста и возвращает информацию о созданном посте в формате JSON\n",
        "\n",
        "\n",
        "```\n",
        "Заголовок: Новый пост\n",
        "Содержимое поста: Тут должно находиться содержимое нового поста...\n",
        "ID пользователя: 10\n",
        "```\n",
        "\n",
        "\n",
        "\n",
        "2. Реализуйте функцию, которая принимает ID поста, новый заголовок и новое содержимое, выполняет PUT-запрос и возвращает обновлённый пост в формате JSON\n",
        "\n",
        "3. Реализуйте функцию, которая принимает ID поста, выполняет DELETE-запрос и возвращает статус-код ответа"
      ],
      "metadata": {
        "id": "4MjiaxDM58ta"
      }
    },
    {
      "cell_type": "code",
      "source": [
        "import json\n",
        "from requests import *\n",
        "\n",
        "url = 'https://jsonplaceholder.typicode.com/posts'\n",
        "\n",
        "\n",
        "def request(url):\n",
        "\t\tresponse = get(url)\n",
        "\n",
        "\t\tif response.status_code == 200:\n",
        "\t\t\t\treturn response.json()\n",
        "\t\treturn None\n",
        "\n",
        "\n",
        "def new_post(user_id, title, body, url=url):\n",
        "\t\tdata = json.dumps({'userId': user_id, 'title': title, 'body': body})\n",
        "\t\tpost(url, json=data)\n",
        "\n",
        "\t\treturn data\n",
        "\n",
        "\n",
        "def create_post():\n",
        "\t\ttitle = input(\"Введите заголовок: \")\n",
        "\t\tbody = input(\"Введите содержимое: \")\n",
        "\t\tuser_id = input(\"Введите id пользователя: \")\n",
        "\n",
        "\t\treturn new_post(user_id, title, body)\n",
        "\n",
        "\n",
        "def rewrite(post_id, url=url):\n",
        "\t\tfor i in request(url):\n",
        "\t\t\t\tif i['id'] == post_id:\n",
        "\t\t\t\t\t\tuser_id = i['userId']\n",
        "\t\t\t\t\t\tbreak\n",
        "\n",
        "\t\telse:\n",
        "\t\t\t\treturn 0\n",
        "\n",
        "\t\ttitle = input(\"Новый заголовок: \")\n",
        "\t\tbody = input(\"Новое содержание: \")\n",
        "\n",
        "\t\tdata = {\"user_id\": user_id, \"id\": post_id, \"title\": title, \"body\": body}\n",
        "\t\tput(url, data)\n",
        "\n",
        "\t\treturn data\n",
        "\n",
        "\n",
        "def delete_post(post_id, url=url):\n",
        "\t\tfor i in request(url):\n",
        "\t\t\t\tif post_id == i[\"id\"]:\n",
        "\t\t\t\t\t\ttitle = i[\"title\"]\n",
        "\t\t\t\t\t\tbody = i[\"body\"]\n",
        "\t\t\t\t\t\tuser_id = i[\"userId\"]\n",
        "\t\t\t\t\t\tbreak\n",
        "\t\telse:\n",
        "\t\t\t\treturn 0\n",
        "\n",
        "\t\tdata = {\"userId\": user_id, 'id': post_id, \"title\": title, \"body\": body}\n",
        "\t\tdata = json.dumps(data)\n",
        "\t\tr = delete(url, data=data)\n",
        "\n",
        "\t\treturn r\n",
        "\n",
        "\n",
        "def main():\n",
        "\n",
        "\t\tprint(create_post())\n",
        "\n",
        "\t\tprint(rewrite(int(input(\"Введите id поста для изменения: \"))))\n",
        "\n",
        "\t\tprint(delete_post(int(input(\"Введите id поста для удаления: \"))))\n",
        "\n",
        "\n",
        "main()\n"
      ],
      "metadata": {
        "id": "jZUIdwq96DNl"
      },
      "execution_count": null,
      "outputs": []
    },
    {
      "cell_type": "markdown",
      "source": [
        "## Задание 5. HTTP-запросы, ответы и пёсики"
      ],
      "metadata": {
        "id": "0UoRc9vOD3XT"
      }
    },
    {
      "cell_type": "markdown",
      "source": [
        "**Описание**\n",
        "\n",
        "Создайте программу, которая будет взаимодействовать с Dog API, которая позволит получать список пород собак, вводить несколько пород и получать их фотогрфии.\n",
        "\n",
        "Этапы:\n",
        "\n",
        "1. Создайте функцию, которая использует метод GET и возвращает список всех пород собак в формате нумерованного списка\n",
        "\n",
        "2. Реализуйте возможность ввода нескольких пород собак через запятую\n",
        "\n",
        "\n",
        "```\n",
        "african, chow, dingo\n",
        "```\n",
        "\n",
        "\n",
        "\n",
        "3. Создание функции, которая реализует запрос, возвращает и выводит изображениия собак, породы которых были введены до этого\n",
        "\n",
        "\n",
        "Используйте Dog API (https://dog.ceo/dog-api/), который предоставляет информацию о породах собак и их изображения.\n"
      ],
      "metadata": {
        "id": "y0EyPsFQ6mSZ"
      }
    },
    {
      "cell_type": "markdown",
      "source": [
        "*Подсказка*\n",
        "\n",
        "\n",
        "\n",
        "```\n",
        "import requests\n",
        "from PIL import Image\n",
        "from IPython.display import display\n",
        "import io\n",
        "\n",
        "url = <____>\n",
        "response = <____>\n",
        "        \n",
        "if response.<______> == <___>:\n",
        "      image_url = response.json()['message']\n",
        "\n",
        "res = requests.<__>(image_url)\n",
        "img = Image.open(io.BytesIO(res.content))\n",
        "display(img)\n",
        "```\n",
        "\n"
      ],
      "metadata": {
        "id": "yrKv5k13AKEP"
      }
    },
    {
      "cell_type": "code",
      "source": [],
      "metadata": {
        "id": "5xti3KRP4Kzp"
      },
      "execution_count": null,
      "outputs": []
    }
  ]
}
