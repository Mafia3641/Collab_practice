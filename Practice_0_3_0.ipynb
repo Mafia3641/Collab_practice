{
  "nbformat": 4,
  "nbformat_minor": 0,
  "metadata": {
    "colab": {
      "provenance": [],
      "include_colab_link": true
    },
    "kernelspec": {
      "name": "python3",
      "display_name": "Python 3"
    },
    "language_info": {
      "name": "python"
    }
  },
  "cells": [
    {
      "cell_type": "markdown",
      "metadata": {
        "id": "view-in-github",
        "colab_type": "text"
      },
      "source": [
        "<a href=\"https://colab.research.google.com/github/Mafia3641/Collab_practice/blob/main/Practice_0_3_0.ipynb\" target=\"_parent\"><img src=\"https://colab.research.google.com/assets/colab-badge.svg\" alt=\"Open In Colab\"/></a>"
      ]
    },
    {
      "cell_type": "markdown",
      "source": [
        "ФИО"
      ],
      "metadata": {
        "id": "phMKaFq3DN13"
      }
    },
    {
      "cell_type": "code",
      "execution_count": null,
      "metadata": {
        "id": "3CWpaI7SDK8t"
      },
      "outputs": [],
      "source": [
        "********************"
      ]
    },
    {
      "cell_type": "markdown",
      "source": [
        "**Во всей практике нельзя применять библиотеки предоставляющие готовые решения!**"
      ],
      "metadata": {
        "id": "jyIy3GOgFOCe"
      }
    },
    {
      "cell_type": "markdown",
      "source": [
        "# **Задача 1.**\n"
      ],
      "metadata": {
        "id": "XizmlL1RK2t3"
      }
    },
    {
      "cell_type": "markdown",
      "source": [
        "\n",
        "\n",
        "Типы данных Напишите программу на Python, которая принимает список чисел в качестве входных данных от пользователя, а затем выводит сумму, среднее значение и максимальное значение из списка.\n",
        "\n",
        "***Нельзя использовать: len(), min(), max(), average(), sum()***\n",
        "\n",
        "Дано:\n",
        "```\n",
        "1 2 3 4 5 6 7\n",
        "```\n",
        "Вывод:\n",
        "\n",
        "```\n",
        "Сумма чисел: 28\n",
        "Среднее арифм.: 4.0\n",
        "Максимальное значение: 7\n",
        "```\n",
        "\n"
      ],
      "metadata": {
        "id": "p0v6KtHTFKSd"
      }
    },
    {
      "cell_type": "code",
      "source": [
        "nums = str(input(\"Введите числа через пробел: \"))\n",
        "nums = nums.split()\n",
        "\n",
        "max_n = 0\n",
        "count = 0\n",
        "sum_n = 0\n",
        "\n",
        "for i in nums:\n",
        "    sum_n += int(i)\n",
        "for i in nums:\n",
        "    count += 1\n",
        "for i in nums:\n",
        "    if int(i) > max_n:\n",
        "       max_n = int(i)\n",
        "    else:\n",
        "        continue\n",
        "\n",
        "print(f\"sum = {sum_n}\",\n",
        "      f\"avg = {sum_n/count}\",\n",
        "      f\"max = {max_n}\")\n"
      ],
      "metadata": {
        "id": "0e1Virl0FpF6",
        "colab": {
          "base_uri": "https://localhost:8080/"
        },
        "outputId": "5279a6aa-abb9-4af9-b649-edf339bfd19b"
      },
      "execution_count": null,
      "outputs": [
        {
          "output_type": "stream",
          "name": "stdout",
          "text": [
            "Введите числа через пробел: 1 2 3\n",
            "sum = 6 avg = 2.0 max = 3\n"
          ]
        }
      ]
    },
    {
      "cell_type": "markdown",
      "source": [
        "# **Задача 2.**"
      ],
      "metadata": {
        "id": "uFluc5OSK0NH"
      }
    },
    {
      "cell_type": "markdown",
      "source": [
        "\n",
        "Напишите программу на Python, которая принимает список слов в качестве входных данных от пользователя, а затем распечатывает список в обратном порядке.\n",
        "\n",
        "Ввод:\n",
        "\n",
        "```\n",
        "апельсин мандарин яблоко\n",
        "```\n",
        "\n",
        "Вывод:\n",
        "\n",
        "```\n",
        "яблоко мандарин апельсин\n",
        "```"
      ],
      "metadata": {
        "id": "6T8vg324GG4Z"
      }
    },
    {
      "cell_type": "code",
      "source": [
        "fruits = input(\"Enter fruits separated by ' ': \")\n",
        "fruits = fruits.split()\n",
        "\n",
        "print(fruits[::-1])"
      ],
      "metadata": {
        "id": "v3AWj4ufGKox",
        "colab": {
          "base_uri": "https://localhost:8080/"
        },
        "outputId": "b9c399ac-33ef-44e4-a602-f46e349278de"
      },
      "execution_count": null,
      "outputs": [
        {
          "output_type": "stream",
          "name": "stdout",
          "text": [
            "Enter fruits separated by ' ': апельсин мандарин яблоко\n",
            "['яблоко', 'мандарин', 'апельсин']\n"
          ]
        }
      ]
    },
    {
      "cell_type": "markdown",
      "source": [
        "# **Задача 3**"
      ],
      "metadata": {
        "id": "D1KkCxtIKxRx"
      }
    },
    {
      "cell_type": "markdown",
      "source": [
        "Простой чат-бот\n",
        "Создайте простого чат-бота, который отвечает на основные запросы пользователей. Программа должна использовать условные выражения для определения намерений пользователя и последующего соответствующего ответа.\n",
        "\n",
        "Чат бот может:\n",
        "\n",
        "- помогать складывать числа\n",
        "- подсказывать фильм, музыку и тд (из заранее созданного списка)\n",
        "- создавать список дел (а также выводить его, обновлять, очищать)\n",
        "\n",
        "Интерфейс чат-бота на ваше усмотрение, это могут быть как заранее определенные команды, так и к примеру вызов команды по номеру\n",
        "\n",
        "*Реализовать без использования функций*\n",
        "\n",
        "Пример:\n",
        "\n",
        "Ввод:\n",
        "\n",
        "```\n",
        "Олег, какую мызыку посоветуешь?\n",
        "```\n",
        "\n",
        "Вывод:\n",
        "\n",
        "```\n",
        "Я бы посоветовал вам: Led Zeppelin Stairway to Heaven\n",
        "```"
      ],
      "metadata": {
        "id": "Yq8Jgb9yHvSi"
      }
    },
    {
      "cell_type": "code",
      "source": [
        "import random\n",
        "\n",
        "start_cmds = [\n",
        "    \"привет\",\n",
        "    \"здарова\",\n",
        "    \"здаров\",\n",
        "    \"хай\",\n",
        "    \"ку\",\n",
        "    \"олег\"\n",
        "]\n",
        "\n",
        "summa = [\n",
        "    \"вычислить\",\n",
        "    \"сложить\",\n",
        "    \"посчитать\",\n",
        "    \"сделать\"\n",
        "]\n",
        "\n",
        "music = [\n",
        "    \"музыка\",\n",
        "    \"музыку\",\n",
        "    \"музыки\",\n",
        "    \"послушать\"\n",
        "]\n",
        "\n",
        "work_place = [\n",
        "    \"список\",\n",
        "    \"дела\",\n",
        "    \"ежедневник\",\n",
        "    \"расписание\"\n",
        "]\n",
        "\n",
        "new_task = [\n",
        "    \"новая\",\n",
        "    \"добавить\",\n",
        "    \"новую\",\n",
        "    \"добавь\",\n",
        "    \"создай\",\n",
        "    \"создать\",\n",
        "]\n",
        "\n",
        "rem_task = [\n",
        "    \"удалить\",\n",
        "    \"удали\",\n",
        "    \"убрать\",\n",
        "    \"убери\",\n",
        "    \"вычеркни\",\n",
        "]\n",
        "\n",
        "fav_music = [\n",
        "    \"Twenty-One Pilots - Heathens\",\n",
        "    \"Big Baby Tape - Surname\",\n",
        "    \"Ogryzek - GLORY\"\n",
        "]\n",
        "\n",
        "hello_ans = [\n",
        "    \"Приветствую! \",\n",
        "    \"Здравствуйте! \",\n",
        "    \"Приятно видеть Вас! \",\n",
        "    \"Доброго дня. \",\n",
        "]\n",
        "\n",
        "sum_n = 0\n",
        "notepad = []\n",
        "\n",
        "request = input(\"\").lower()\n",
        "request = request.split()\n",
        "request = [i.replace(',', '') for i in request]\n",
        "\n",
        "if request[0] in start_cmds or request[0] in start_cmds:\n",
        "    print(random.choice(hello_ans))\n",
        "\n",
        "    while True:\n",
        "        request = input(\"\").lower()\n",
        "        request = request.split()\n",
        "        request = [i.replace(',', '') for i in request]\n",
        "        for i in request:\n",
        "            if i in summa:\n",
        "                print(\"Enter all numbers separated by a ' ' to sum: \")\n",
        "                nums = input()\n",
        "                for num in nums:\n",
        "                    sum_n += int(num)\n",
        "                print(\"Ответ:\" + sum_n)\n",
        "                break\n",
        "            elif i in music:\n",
        "                print(\"Советую Вам послушать мою любимую: \" + random.choice(fav_music))\n",
        "                break\n",
        "            elif i in work_place:\n",
        "                print(\"Ваш список задач на текущий момент выглядит так: \")\n",
        "                if len(notepad) == 0:\n",
        "                    print(\"Список задач пуст!\")\n",
        "                else:\n",
        "                    print(\"Список задач выглядит так: \", notepad)\n",
        "                break\n",
        "            elif i in new_task:\n",
        "                notepad.append(input(\"Введите задачу: \"))\n",
        "                print(\"Список задач выглядит так: \", notepad)\n",
        "                break\n",
        "            elif i in rem_task:\n",
        "                pos = input(\"Введите позицию задачи для удаления (от 0): \")\n",
        "                try:\n",
        "                    r = notepad.pop(int(pos))\n",
        "                    notepad.remove(r)\n",
        "                    print(\"Список задач выглядит так: \", notepad)\n",
        "                except:\n",
        "                    pass\n",
        "                print(\"Список задач выглядит так: \" + str(notepad) if len(notepad) != 0 else \"Список пуст \")\n",
        "                break\n"
      ],
      "metadata": {
        "id": "fmW-tmUtINN9",
        "colab": {
          "base_uri": "https://localhost:8080/",
          "height": 211
        },
        "outputId": "28eb87b8-7bce-405f-933b-e15d775a1107"
      },
      "execution_count": null,
      "outputs": [
        {
          "name": "stdout",
          "output_type": "stream",
          "text": [
            "Привет, Олег\n"
          ]
        },
        {
          "output_type": "error",
          "ename": "TypeError",
          "evalue": "'builtin_function_or_method' object is not subscriptable",
          "traceback": [
            "\u001b[0;31m---------------------------------------------------------------------------\u001b[0m",
            "\u001b[0;31mTypeError\u001b[0m                                 Traceback (most recent call last)",
            "\u001b[0;32m<ipython-input-9-2ffbea593a9c>\u001b[0m in \u001b[0;36m<cell line: 40>\u001b[0;34m()\u001b[0m\n\u001b[1;32m     38\u001b[0m \u001b[0;34m\u001b[0m\u001b[0m\n\u001b[1;32m     39\u001b[0m \u001b[0mrequest\u001b[0m \u001b[0;34m=\u001b[0m \u001b[0minput\u001b[0m\u001b[0;34m(\u001b[0m\u001b[0;34m\"\"\u001b[0m\u001b[0;34m)\u001b[0m\u001b[0;34m.\u001b[0m\u001b[0msplit\u001b[0m\u001b[0;34m\u001b[0m\u001b[0;34m\u001b[0m\u001b[0m\n\u001b[0;32m---> 40\u001b[0;31m \u001b[0;32mif\u001b[0m \u001b[0mrequest\u001b[0m\u001b[0;34m[\u001b[0m\u001b[0;36m0\u001b[0m\u001b[0;34m]\u001b[0m \u001b[0;32min\u001b[0m \u001b[0mstart_cmds\u001b[0m\u001b[0;34m:\u001b[0m\u001b[0;34m\u001b[0m\u001b[0;34m\u001b[0m\u001b[0m\n\u001b[0m\u001b[1;32m     41\u001b[0m   \u001b[0mprint\u001b[0m\u001b[0;34m(\u001b[0m\u001b[0;34m\"Hi\"\u001b[0m\u001b[0;34m)\u001b[0m\u001b[0;34m\u001b[0m\u001b[0;34m\u001b[0m\u001b[0m\n",
            "\u001b[0;31mTypeError\u001b[0m: 'builtin_function_or_method' object is not subscriptable"
          ]
        }
      ]
    },
    {
      "cell_type": "markdown",
      "source": [
        "# **Задача 4.**\n"
      ],
      "metadata": {
        "id": "PHXBfyc6Ko7D"
      }
    },
    {
      "cell_type": "markdown",
      "source": [
        "Камень, ножницы, бумага\n",
        "\n",
        "Создайте игру в Камень, ножницы, бумагу, в которой пользователь может играть против компьютера. Программа должна запросить выбор пользователя, а затем сгенерировать выбор компьютера. Затем программа должна определить победителя на основе правил игры.\n",
        "\n",
        "**Этап 1:**\n",
        "\n",
        "Определение победителя\n",
        "\n",
        "**Этап 2:**\n",
        "  \n",
        "Игра до 3 побед\n",
        "\n",
        "\n",
        "Ввод для \"Этап 1\":\n",
        "\n",
        "```\n",
        "Камень\n",
        "```\n",
        "\n",
        "Вывод:\n",
        "\n",
        "```\n",
        "Компьютер: Ножницы\n",
        "Игрок: Камень\n",
        "Победа: Игрок\n",
        "```"
      ],
      "metadata": {
        "id": "jnKWeYleI0j6"
      }
    },
    {
      "cell_type": "code",
      "source": [
        "import random\n",
        "\n",
        "cmds = [\n",
        "    \"камень\",\n",
        "    \"ножницы\",\n",
        "    \"бумага\",\n",
        "]\n",
        "\n",
        "score1 = 0\n",
        "score2 = 0\n",
        "while True:\n",
        "    while True:\n",
        "        player = input().lower()\n",
        "        if player not in cmds:\n",
        "            print(\"Неверный ход! \")\n",
        "        else:\n",
        "            break\n",
        "    computer = random.choice(cmds)\n",
        "\n",
        "    if computer == \"камень\" and player == \"бумага\":\n",
        "        score1 += 1\n",
        "        print(f\"Игрок: {player} \\nКомпьютер: {computer} \\nОчко за кожаным\")\n",
        "    elif computer == \"камень\" and player == \"ножницы\":\n",
        "        score2 += 1\n",
        "        print(f\"Игрок: {player} \\nКомпьютер: {computer} \\nИзи скайнет +1\")\n",
        "    elif computer == \"камень\" and player == \"камень\":\n",
        "        print(f\"Игрок: {player} \\nКомпьютер: {computer} \\nНичья\")\n",
        "\n",
        "    elif computer == \"ножницы\" and player == \"камень\":\n",
        "        score1 += 1\n",
        "        print(f\"Игрок: {player} \\nКомпьютер: {computer} \\nОчко за кожаным\")\n",
        "    elif computer == \"ножницы\" and player == \"бумага\":\n",
        "        score2 += 1\n",
        "        print(f\"Игрок: {player} \\nКомпьютер: {computer} \\nИзи скайнет +1\")\n",
        "    elif computer == \"ножницы\" and player == \"ножницы\":\n",
        "        print(f\"Игрок: {player} \\nКомпьютер: {computer} \\nНичья\")\n",
        "\n",
        "    elif computer == \"бумага\" and player == \"ножницы\":\n",
        "        score1 += 1\n",
        "        print(f\"Игрок: {player} \\nКомпьютер: {computer} \\nОчко за кожаным\")\n",
        "    elif computer == \"бумага\" and player == \"камень\":\n",
        "        score2 += 1\n",
        "        print(f\"Игрок: {player} \\nКомпьютер: {computer} \\nИзи скайнет +1\")\n",
        "    elif computer == \"бумага\" and player == \"бумага\":\n",
        "        print(f\"Игрок: {player} \\nКомпьютер: {computer} \\nНичья\")\n",
        "\n",
        "    if score1 == 3:\n",
        "        print(\"Победа человечества! \")\n",
        "        score1 = 0\n",
        "        score2 = 0\n",
        "    if score2 == 3:\n",
        "        print(\"Победа скайнета! \")\n",
        "        score1 = 0\n",
        "        score2 = 0\n"
      ],
      "metadata": {
        "id": "ooIPCRe_JHkX"
      },
      "execution_count": null,
      "outputs": []
    },
    {
      "cell_type": "markdown",
      "source": [
        "# **Задача 5.**"
      ],
      "metadata": {
        "id": "Hg4FJNFbLHQO"
      }
    },
    {
      "cell_type": "markdown",
      "source": [
        "Создайте игру \"Палач\" или \"Виселица\", в которой пользователь должен угадать слово, предлагая буквы. Программа должна выбрать случайное слово, а затем разрешить пользователю угадывать буквы. После каждого угадывания программа должна сообщать пользователю, есть ли в слове буква или нет.\n",
        "\n",
        "**Этап 1**\n",
        "Создать саму игру\n",
        "\n",
        "**Этап 2:**\n",
        "Ввести подсчет количества очков и ограничения на попытки\n",
        "\n",
        "**Этап 3:** Добавить возможность сразу угадать слово"
      ],
      "metadata": {
        "id": "OHqj3HJuLJgY"
      }
    },
    {
      "cell_type": "code",
      "source": [
        "import random\n",
        "\n",
        "\n",
        "words_list = [\n",
        "    \"память\",\n",
        "    \"дождь\",\n",
        "    \"булочка\",\n",
        "    \"камикадзе\",\n",
        "    \"преступник\",\n",
        "    \"компьютеры\",\n",
        "]\n",
        "\n",
        "r = '*'\n",
        "secret_w = random.choice(words_list)\n",
        "\n",
        "word = [i for let in secret_w for i in let]\n",
        "zv = '*' * len(secret_w)\n",
        "print(f\"Загаданное слово: \", '*' * len(secret_w))\n",
        "\n",
        "\n",
        "def letter_pos(letter, word=secret_w):\n",
        "    c = 0\n",
        "    k = []\n",
        "    for l in word:\n",
        "        c += 1\n",
        "        if l == letter:\n",
        "            k.append(c)\n",
        "            continue\n",
        "    if len(k) == 0:\n",
        "        return \"-\"\n",
        "    return k\n",
        "\n",
        "\n",
        "t = 5\n",
        "\n",
        "while True:\n",
        "\n",
        "    p = input(\"Введите букву: \").lower()\n",
        "    if p == secret_w:\n",
        "\n",
        "        print(\"Вы угадали слово! \")\n",
        "        break\n",
        "\n",
        "    k = letter_pos(p)\n",
        "    if k == '-':\n",
        "        print(f\"Такой буквы нет! -1 жизнь. Осталось попыток: {t-1}\")\n",
        "        t -= 1\n",
        "    else:\n",
        "        print(\"Вы угадали, есть такая буква! \")\n",
        "\n",
        "        for i in k:\n",
        "            zv = zv[:i-1] + secret_w[i-1] + zv[i:]\n",
        "    print(\"Загаданное слово: \", zv)\n",
        "    if t == 0:\n",
        "        print(\"Вы проиграли, игра окончена! \")\n",
        "        break\n",
        "    else:\n",
        "        if zv == secret_w:\n",
        "            print(\"Вы победили! Вы угадали слово полностью! \")\n",
        "            break\n",
        "        else:\n",
        "            continue\n"
      ],
      "metadata": {
        "id": "0N2zCYwVLiIw"
      },
      "execution_count": null,
      "outputs": []
    },
    {
      "cell_type": "markdown",
      "source": [
        "# **Дополнительно: Задача 6.**\n"
      ],
      "metadata": {
        "id": "w0x3QFGzKtDD"
      }
    },
    {
      "cell_type": "markdown",
      "source": [
        "\n",
        "**Цифра на определенном месте:**\n",
        "\n",
        "Последовательно записан натуральный ряд чисел.\n",
        "\n",
        "Какая цифра стоит в N позиции\n",
        "\n",
        "\n",
        "Вввод:\n",
        "\n",
        "```\n",
        "Введите номер позиции: 1234567890\n",
        "```\n",
        "\n",
        "Вывод:\n",
        "\n",
        "```\n",
        "8\n",
        "```"
      ],
      "metadata": {
        "id": "QqZArcpHJxVj"
      }
    },
    {
      "cell_type": "code",
      "source": [],
      "metadata": {
        "id": "LwjYwBGcKiJ9"
      },
      "execution_count": null,
      "outputs": []
    }
  ]
}
